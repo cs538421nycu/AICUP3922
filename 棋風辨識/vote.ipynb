{
 "cells": [
  {
   "cell_type": "markdown",
   "metadata": {},
   "source": [
    "## Function Definition"
   ]
  },
  {
   "cell_type": "code",
   "execution_count": null,
   "metadata": {},
   "outputs": [],
   "source": [
    "import csv\n",
    "\n",
    "def csv_to_dict(csv_file):\n",
    "    result_dict = {}\n",
    "    with open(csv_file, 'r') as file:\n",
    "        reader = csv.reader(file)\n",
    "        for row in reader:\n",
    "            key, value = row\n",
    "            result_dict[key] = value\n",
    "    return result_dict\n"
   ]
  },
  {
   "cell_type": "code",
   "execution_count": null,
   "metadata": {},
   "outputs": [],
   "source": [
    "def vote(dictionary1, dictionary2, dictionary3):\n",
    "    result_dict = {}\n",
    "    \n",
    "    keys = set(dictionary1.keys()).union(dictionary2.keys(), dictionary3.keys())\n",
    "\n",
    "    match_key = 0\n",
    "    key0 = 0\n",
    "    key1 = 0\n",
    "    key2 = 0\n",
    "    \n",
    "    for key in keys:\n",
    "        votes = [dictionary1[key], dictionary2[key], dictionary3[key]]\n",
    "        if dictionary1[key] == dictionary2[key] == dictionary3[key]:\n",
    "            match_key += 1\n",
    "            if(dictionary1[key] == '1'):\n",
    "                key0 += 1\n",
    "            elif(dictionary1[key] == '2'):\n",
    "                key1 += 1\n",
    "            else:\n",
    "                key2 += 1\n",
    "        winning_value = max(set(votes), key=votes.count)\n",
    "        result_dict[key] = winning_value\n",
    "\n",
    "    result_dict = dict(sorted(result_dict.items()))\n",
    "    \n",
    "    return result_dict, match_key/len(keys), (key0, key1, key2)\n",
    "\n"
   ]
  },
  {
   "cell_type": "code",
   "execution_count": null,
   "metadata": {},
   "outputs": [],
   "source": [
    "def dict_to_csv(dictionary, csv_file):\n",
    "    with open(csv_file, 'w', newline='') as file:\n",
    "        writer = csv.writer(file)\n",
    "        for key, value in dictionary.items():\n",
    "            writer.writerow([key, value])\n"
   ]
  },
  {
   "cell_type": "markdown",
   "metadata": {},
   "source": [
    "## Main Function"
   ]
  },
  {
   "cell_type": "code",
   "execution_count": null,
   "metadata": {},
   "outputs": [],
   "source": [
    "file1 = '' \n",
    "file2 = '' \n",
    "file3 = ''\n",
    "output_path = ''\n",
    "\n",
    "dict1 = csv_to_dict(file1)\n",
    "dict2 = csv_to_dict(file2)\n",
    "dict3 = csv_to_dict(file3)\n",
    "\n",
    "result = vote(dict1, dict2, dict3)\n",
    "\n",
    "dict_to_csv(result[0], output_path)\n"
   ]
  }
 ],
 "metadata": {
  "kernelspec": {
   "display_name": "AIcup2023",
   "language": "python",
   "name": "python3"
  },
  "language_info": {
   "codemirror_mode": {
    "name": "ipython",
    "version": 3
   },
   "file_extension": ".py",
   "mimetype": "text/x-python",
   "name": "python",
   "nbconvert_exporter": "python",
   "pygments_lexer": "ipython3",
   "version": "3.11.5"
  }
 },
 "nbformat": 4,
 "nbformat_minor": 2
}
