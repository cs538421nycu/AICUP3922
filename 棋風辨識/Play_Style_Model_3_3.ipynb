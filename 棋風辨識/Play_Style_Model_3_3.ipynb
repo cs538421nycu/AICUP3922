{
 "cells": [
  {
   "cell_type": "markdown",
   "metadata": {
    "id": "Y4csqOu0HGZC"
   },
   "source": [
    "### About version"
   ]
  },
  {
   "cell_type": "code",
   "execution_count": null,
   "metadata": {
    "id": "djuD3177HGZC"
   },
   "outputs": [],
   "source": [
    "version_name = \"model_3_3\""
   ]
  },
  {
   "cell_type": "markdown",
   "metadata": {
    "id": "GvJt4eRCHGZD"
   },
   "source": [
    "### Import libraries"
   ]
  },
  {
   "cell_type": "code",
   "execution_count": null,
   "metadata": {
    "id": "hMQLth7KHGZD"
   },
   "outputs": [],
   "source": [
    "# Import libraries\n",
    "import torch\n",
    "import numpy as np\n",
    "import matplotlib.pyplot as plt\n",
    "%matplotlib inline\n",
    "\n",
    "# PyTorch dataset\n",
    "from torch.utils.data.sampler import SubsetRandomSampler\n",
    "\n",
    "# PyTorch model\n",
    "import torch.nn as nn\n",
    "import torch.nn.functional as F\n",
    "import torch.optim as optim\n",
    "from torch.optim.lr_scheduler import ReduceLROnPlateau\n"
   ]
  },
  {
   "cell_type": "markdown",
   "metadata": {
    "id": "8I7BVP2dHGZE"
   },
   "source": [
    "### Load Dataset"
   ]
  },
  {
   "cell_type": "code",
   "execution_count": null,
   "metadata": {
    "id": "kZb1J17uHGZF"
   },
   "outputs": [],
   "source": [
    "df = open('./Training Dataset/play_style_train.csv').read().splitlines()\n",
    "# df = df[:25000]\n",
    "\n",
    "games = [i.split(',', 2)[-1] for i in df]\n",
    "game_styles = [int(i.split(',', 2)[-2]) for i in df]"
   ]
  },
  {
   "cell_type": "code",
   "execution_count": null,
   "metadata": {
    "colab": {
     "base_uri": "https://localhost:8080/"
    },
    "id": "lEUjx9seHGZF",
    "outputId": "5a0480b2-7091-41ec-c00b-788948219166"
   },
   "outputs": [],
   "source": [
    "print(games[0])\n",
    "print(game_styles[:10])"
   ]
  },
  {
   "cell_type": "markdown",
   "metadata": {
    "id": "3Gc4gFcUHGZG"
   },
   "source": [
    "### Data processing"
   ]
  },
  {
   "cell_type": "code",
   "execution_count": null,
   "metadata": {},
   "outputs": [],
   "source": [
    "# Set up coordinate\n",
    "chars = 'abcdefghijklmnopqrs'\n",
    "coordinates = {k: v for v, k in enumerate(chars)}"
   ]
  },
  {
   "cell_type": "code",
   "execution_count": null,
   "metadata": {},
   "outputs": [],
   "source": [
    "def convert_game(moves):\n",
    "    x = np.zeros((4, 19, 19))\n",
    "    last_move_color = moves[-1][0]\n",
    "\n",
    "    for move in moves:\n",
    "        color = move[0]\n",
    "        column = coordinates[move[2]]\n",
    "        row = coordinates[move[3]]\n",
    "        column = coordinates[move[2]]\n",
    "        row = coordinates[move[3]]\n",
    "        x[0, row, column] = 1\n",
    "\n",
    "        if (color == last_move_color):\n",
    "            x[2, row, column] = 1\n",
    "        else:\n",
    "            x[1, row, column] = 1\n",
    "\n",
    "    last_move_column = coordinates[moves[-1][2]]\n",
    "    last_move_row = coordinates[moves[-1][3]]\n",
    "    x[3, row, column] = 1\n",
    "\n",
    "    return x"
   ]
  },
  {
   "cell_type": "code",
   "execution_count": null,
   "metadata": {},
   "outputs": [],
   "source": [
    "# Convert y into an one-hot array\n",
    "def one_hot_encoding(value):\n",
    "    one_hot = torch.eye(3)[value]\n",
    "    one_hot = np.array(one_hot)\n",
    "    return one_hot"
   ]
  },
  {
   "cell_type": "code",
   "execution_count": null,
   "metadata": {
    "id": "F4uCw9LnHGZG"
   },
   "outputs": [],
   "source": [
    "x = []\n",
    "for game in games:\n",
    "    moves_list = game.split(',')\n",
    "    x.append(convert_game(moves_list))\n",
    "x = np.array(x)\n",
    "\n",
    "Y = []\n",
    "y = np.array(game_styles) - 1\n",
    "for yi in y:\n",
    "    Y.append(one_hot_encoding(yi))"
   ]
  },
  {
   "cell_type": "markdown",
   "metadata": {
    "id": "xUTUWyUMHGZH"
   },
   "source": [
    "### Data Transform"
   ]
  },
  {
   "cell_type": "code",
   "execution_count": null,
   "metadata": {
    "id": "kEQasJUdHGZH"
   },
   "outputs": [],
   "source": [
    "# flip and rotate the image to increase the training data\n",
    "def flip_rotate(feature: np.ndarray, target: np.ndarray):\n",
    "    a0 = np.array(feature)\n",
    "    a1 = np.rot90(a0, axes=(2, 3))\n",
    "    a2 = np.rot90(a1, axes=(2, 3))\n",
    "    a3 = np.rot90(a2, axes=(2, 3))\n",
    "    b0 = np.flip(a0, axis=3)\n",
    "    b1 = np.rot90(b0, axes=(2, 3))\n",
    "    b2 = np.rot90(b1, axes=(2, 3))\n",
    "    b3 = np.rot90(b2, axes=(2, 3))\n",
    "\n",
    "    c = np.concatenate((a0, a1, a2, a3, b0, b1, b2, b3), axis=0)\n",
    "\n",
    "    d = np.concatenate((target, target, target, target,\n",
    "                       target, target, target, target), axis=0)\n",
    "    return c, d\n"
   ]
  },
  {
   "cell_type": "code",
   "execution_count": null,
   "metadata": {
    "id": "xOGE733-HGZH"
   },
   "outputs": [],
   "source": [
    "x,y = flip_rotate(x, Y)"
   ]
  },
  {
   "cell_type": "markdown",
   "metadata": {
    "id": "k1dgKcNRHGZI"
   },
   "source": [
    "### Load Data"
   ]
  },
  {
   "cell_type": "code",
   "execution_count": null,
   "metadata": {
    "id": "jdGPggmjHGZI"
   },
   "outputs": [],
   "source": [
    "# number of subprocesses to use for data loading\n",
    "num_workers = 0\n",
    "# how many samples per batch to load\n",
    "batch_size = 64\n",
    "# percentage of training set to use as validation\n",
    "valid_size = 0.1"
   ]
  },
  {
   "cell_type": "code",
   "execution_count": null,
   "metadata": {
    "colab": {
     "base_uri": "https://localhost:8080/"
    },
    "id": "j6mzUjAYHGZI",
    "outputId": "c286d4b1-d342-4d18-c690-67024ba701bf"
   },
   "outputs": [],
   "source": [
    "# obtain training indices that will be used for validation\n",
    "num_batch = len(x) // batch_size\n",
    "num_train = num_batch * batch_size\n",
    "indices = list(range(num_train))\n",
    "np.random.shuffle(indices)\n",
    "split = int(np.floor(valid_size * num_batch)) * batch_size\n",
    "train_idx, valid_idx = indices[split:], indices[:split]\n",
    "print(len(x), batch_size, num_batch, num_train, split)"
   ]
  },
  {
   "cell_type": "code",
   "execution_count": null,
   "metadata": {
    "colab": {
     "base_uri": "https://localhost:8080/"
    },
    "id": "n3pNAXDvHGZI",
    "outputId": "2254ecd2-755d-477c-f87e-ee7783bb568e"
   },
   "outputs": [],
   "source": [
    "# define samplers for obtaining training and validation batches\n",
    "train_sampler = SubsetRandomSampler(train_idx)\n",
    "valid_sampler = SubsetRandomSampler(valid_idx)\n",
    "print(len(train_sampler), len(valid_sampler))"
   ]
  },
  {
   "cell_type": "code",
   "execution_count": null,
   "metadata": {
    "id": "k_xDbr-wHGZI"
   },
   "outputs": [],
   "source": [
    "# prepare data loaders (combine dataset and sampler)\n",
    "x = torch.Tensor(x)\n",
    "y = torch.Tensor(y)\n",
    "\n",
    "dataset = torch.utils.data.TensorDataset(x, y)\n",
    "\n",
    "train_loader = torch.utils.data.DataLoader(\n",
    "    dataset,\n",
    "    batch_size=batch_size,\n",
    "    sampler=train_sampler,\n",
    "    num_workers=num_workers\n",
    ")\n",
    "valid_loader = torch.utils.data.DataLoader(\n",
    "    dataset,\n",
    "    batch_size=batch_size,\n",
    "    sampler=valid_sampler,\n",
    "    num_workers=num_workers\n",
    ")"
   ]
  },
  {
   "cell_type": "markdown",
   "metadata": {
    "id": "jEpfJM4fHGZJ"
   },
   "source": [
    "### Define Model"
   ]
  },
  {
   "cell_type": "code",
   "execution_count": null,
   "metadata": {
    "id": "r9vnPfWNHGZJ"
   },
   "outputs": [],
   "source": [
    "class InputBlock(nn.Module):\n",
    "    def __init__(self, in_planes, out_planes, stride=1):\n",
    "        super(InputBlock, self).__init__()\n",
    "        self.conv1 = nn.Conv2d(in_planes, out_planes, kernel_size=1, stride=1, padding=0, bias=False)\n",
    "        self.conv2 = nn.Conv2d(in_planes, out_planes, kernel_size=3, stride=1, padding=1, bias=False)\n",
    "        self.conv3 = nn.Conv2d(in_planes, out_planes, kernel_size=5, stride=1, padding=2, bias=False)\n",
    "\n",
    "    def forward(self, x):\n",
    "        out = self.conv1(x) + self.conv2(x) + self.conv3(x)\n",
    "        out = F.relu(out)\n",
    "        return out\n",
    "\n",
    "class BasicBlock(nn.Module):\n",
    "    def __init__(self, in_planes, out_planes, stride=1):\n",
    "        super(BasicBlock, self).__init__()\n",
    "        self.conv1 = nn.Conv2d(in_planes, out_planes, kernel_size=3, stride=stride, padding=1, bias=False)\n",
    "        self.conv2 = nn.Conv2d(out_planes, out_planes, kernel_size=3, stride=stride, padding=1, bias=False)\n",
    "        self.shortcut = nn.Sequential()\n",
    "\n",
    "    def forward(self, x):\n",
    "        out = F.relu(self.conv1(x))\n",
    "        out = self.conv2(out)\n",
    "        out += self.shortcut(x)\n",
    "        out = F.relu(out)\n",
    "        return out\n",
    "\n",
    "class ResNet(nn.Module):\n",
    "    def __init__(self, in_planes=4, num_blocks=10):\n",
    "        super(ResNet, self).__init__()\n",
    "        self.layer1 = InputBlock(in_planes, out_planes=12, stride=1)\n",
    "        self.layer2 = self.make_layer(BasicBlock, 12, num_blocks)\n",
    "        self.layer3 = nn.Conv2d(12, 3, kernel_size=3, stride=1, padding=1, bias=False)\n",
    "        self.flatten = nn.Flatten()\n",
    "\n",
    "        self.fc1 = nn.Linear(1083, 256)\n",
    "        self.fc2 = nn.Linear(256, 64)\n",
    "        self.fc3 = nn.Linear(64, 3)\n",
    "\n",
    "        self.dropout = nn.Dropout(0.25)\n",
    "\n",
    "\n",
    "    def make_layer(self, block, planes, num_blocks):\n",
    "        layers = []\n",
    "        for n in range(num_blocks):\n",
    "            layers.append(block(planes, planes))\n",
    "        return nn.Sequential(*layers)\n",
    "\n",
    "    def forward(self, x):\n",
    "        out = self.layer1(x)\n",
    "        out = self.layer2(out)\n",
    "        out = self.layer3(out)\n",
    "        out = self.flatten(out)\n",
    "\n",
    "        out = F.relu(self.fc1(out))\n",
    "        out = self.dropout(out)\n",
    "        out = F.relu(self.fc2(out))\n",
    "        out = self.dropout(out)\n",
    "        out = F.softmax(self.fc3(out), dim=1)\n",
    "        return out"
   ]
  },
  {
   "cell_type": "code",
   "execution_count": null,
   "metadata": {
    "colab": {
     "base_uri": "https://localhost:8080/"
    },
    "id": "HxW8fuq6HGZJ",
    "outputId": "3ddd053d-4bdd-47da-aa29-f811ddfa968b"
   },
   "outputs": [],
   "source": [
    "model = ResNet(in_planes=4, num_blocks=12)\n",
    "model\n"
   ]
  },
  {
   "cell_type": "markdown",
   "metadata": {
    "id": "Gc7OLy8SHGZK"
   },
   "source": [
    "### Make directory\n"
   ]
  },
  {
   "cell_type": "code",
   "execution_count": null,
   "metadata": {
    "colab": {
     "base_uri": "https://localhost:8080/"
    },
    "id": "v01SFcikHGZK",
    "outputId": "82c7be42-9129-43fe-fcd8-c80c7dca2483"
   },
   "outputs": [],
   "source": [
    "# Make a directory to retore the paarameters of model of each epoch\n",
    "import os\n",
    "\n",
    "directory_path = f\"./{version_name}\"\n",
    "\n",
    "# Check if the directory already exists\n",
    "if not os.path.exists(directory_path):\n",
    "    # If it doesn't exist, create the directory\n",
    "    os.makedirs(directory_path)\n",
    "    print(f\"Directory '{directory_path}' created successfully.\")\n",
    "else:\n",
    "    print(f\"Directory '{directory_path}' already exists.\")"
   ]
  },
  {
   "cell_type": "markdown",
   "metadata": {
    "id": "ytnrLuaZHGZK"
   },
   "source": [
    "### Training The Model"
   ]
  },
  {
   "cell_type": "code",
   "execution_count": null,
   "metadata": {
    "colab": {
     "base_uri": "https://localhost:8080/"
    },
    "id": "hI2IzgfpHGZK",
    "outputId": "be50b934-bd98-4e12-a770-d505bb9c08e5"
   },
   "outputs": [],
   "source": [
    "# check if CUDA is available\n",
    "train_on_gpu = torch.cuda.is_available()\n",
    "\n",
    "if not train_on_gpu:\n",
    "    print('CUDA is not available.  Training on CPU ...')\n",
    "    mps_device = torch.device(\"mps\")\n",
    "else:\n",
    "    print('CUDA is available!  Training on GPU ...')\n",
    "\n",
    "# move tensors to GPU if CUDA is available\n",
    "if train_on_gpu:\n",
    "    model.cuda()\n",
    "else:\n",
    "    model.to(mps_device)"
   ]
  },
  {
   "cell_type": "code",
   "execution_count": null,
   "metadata": {
    "id": "ShzqNVgdHGZK"
   },
   "outputs": [],
   "source": [
    "class_weights = torch.tensor([1.0, 1.0, 1.5])\n",
    "class_weights = class_weights.cuda()\n",
    "\n",
    "criterion = nn.CrossEntropyLoss(weight=class_weights)\n",
    "optimizer = optim.Adam(model.parameters(), lr=0.001)\n",
    "scheduler = ReduceLROnPlateau(optimizer, mode='min', patience=5000, factor=0.97, min_lr=5e-7)"
   ]
  },
  {
   "cell_type": "code",
   "execution_count": null,
   "metadata": {
    "colab": {
     "base_uri": "https://localhost:8080/"
    },
    "id": "9xQzw7XrHGZK",
    "outputId": "5db1b74e-f37c-4b75-fee0-81adab5fab3e"
   },
   "outputs": [],
   "source": [
    "epoch_num = 50\n",
    "\n",
    "valid_loss_min = np.Inf\n",
    "\n",
    "all_training_loss = []\n",
    "all_validation_loss = []\n",
    "\n",
    "lr = []\n",
    "\n",
    "for epoch in range(1, epoch_num+1):\n",
    "\n",
    "    train_loss = 0.0\n",
    "    valid_loss = 0.0\n",
    "\n",
    "    class_correct = list(0. for i in range(3))\n",
    "    class_total = list(0. for i in range(3))\n",
    "\n",
    "    ##### train the model #####\n",
    "    model.train()\n",
    "    for _, all_data in enumerate(train_loader):\n",
    "\n",
    "        if train_on_gpu:\n",
    "            data = all_data[0].cuda()\n",
    "            target = all_data[1].cuda()\n",
    "        else:\n",
    "            data = all_data[0].to(mps_device)\n",
    "            target = all_data[1].to(mps_device)\n",
    "\n",
    "        lr.append(optimizer.param_groups[0]['lr'])\n",
    "\n",
    "        # clear the gradients of all optimized variables\n",
    "        optimizer.zero_grad()\n",
    "\n",
    "        output = model(data)\n",
    "\n",
    "        loss = criterion(output, target)\n",
    "        loss.backward()\n",
    "        optimizer.step()\n",
    "\n",
    "        scheduler.step(loss)\n",
    "\n",
    "\n",
    "        train_loss += loss.item() * data.size(0)\n",
    "\n",
    "\n",
    "    ##### validate the model #####\n",
    "    model.eval()\n",
    "    for _, all_data in enumerate(valid_loader):\n",
    "        if train_on_gpu:\n",
    "            data = all_data[0].cuda()\n",
    "            target = all_data[1].cuda()\n",
    "        else:\n",
    "            # data, target = data.to(mps_device), target.to(mps_device)\n",
    "            data = all_data[0].to(mps_device)\n",
    "            target = all_data[1].to(mps_device)\n",
    "\n",
    "        output = model(data)\n",
    "        loss = criterion(output, target)\n",
    "        valid_loss += loss.item() * data.size(0)\n",
    "\n",
    "        # convert output probabilities to predicted class\n",
    "        _, pred = torch.max(output, 1)\n",
    "\n",
    "        ans = []\n",
    "        for i in range(batch_size):\n",
    "            for j in range(3):\n",
    "                if target[i][j]:\n",
    "                    ans.append(j)\n",
    "        ans = torch.tensor(np.array(ans))\n",
    "\n",
    "        if train_on_gpu:\n",
    "            pred = pred.cpu()\n",
    "        else:\n",
    "            pred = pred.cpu()\n",
    "\n",
    "        correct_tensor = pred.eq(ans.data.view_as(pred))\n",
    "        correct = np.squeeze(correct_tensor.numpy()) if not train_on_gpu else np.squeeze(correct_tensor.cpu().numpy())\n",
    "\n",
    "        # calculate test accuracy for each object class\n",
    "        for i in range(batch_size):\n",
    "            label = ans.data[i]\n",
    "            class_correct[label] += correct[i].item()\n",
    "            class_total[label] += 1\n",
    "\n",
    "    # calculate average losses\n",
    "    train_loss = train_loss/len(train_loader.sampler)\n",
    "    valid_loss = valid_loss/len(valid_loader.sampler)\n",
    "\n",
    "\n",
    "    all_training_loss.append(train_loss)\n",
    "    all_validation_loss.append(valid_loss)\n",
    "\n",
    "    # print training/validation statistics\n",
    "    print('Epoch: {} \\n\\tTraining Loss: {:.6f} \\n\\tValidation Loss: {:.6f} [Minimum Validation Loss in the History: {:.6f}]'.format(\n",
    "        epoch, train_loss, valid_loss, valid_loss_min))\n",
    "\n",
    "    for i in range(3):\n",
    "        if class_total[i] > 0:\n",
    "            print('\\t\\tValidation Accuracy of style %d: %2d%% (%2d/%2d)' % (\n",
    "                i + 1, 100 * class_correct[i] / class_total[i],\n",
    "                np.sum(class_correct[i]), np.sum(class_total[i])))\n",
    "        else:\n",
    "            print('\\t\\tTest Accuracy of style: N/A (no training examples)' % (i + 1))\n",
    "\n",
    "    print('\\t\\tTotal Accuracy: %2.2f%% (%2d/%2d)' % (100 * np.sum(class_correct) / np.sum(class_total), np.sum(class_correct), np.sum(class_total)))\n",
    "\n",
    "    torch.save(model.state_dict(), f\"{directory_path}/{version_name}_{valid_loss:.6f}.pt\")\n",
    "\n",
    "    # save model if validation loss has decreased\n",
    "    if valid_loss <= valid_loss_min:\n",
    "        print('\\t***** Validation loss decreased ({:.6f} --> {:.6f}).  Saving model ... *****'.format(valid_loss_min, valid_loss))\n",
    "        torch.save(model.state_dict(), f\"{version_name}.pt\")\n",
    "        valid_loss_min = valid_loss\n",
    "\n"
   ]
  },
  {
   "cell_type": "markdown",
   "metadata": {
    "id": "Fex9wr2sHGZL"
   },
   "source": [
    "### Plot the result\n"
   ]
  },
  {
   "cell_type": "code",
   "execution_count": null,
   "metadata": {
    "colab": {
     "base_uri": "https://localhost:8080/",
     "height": 293
    },
    "id": "QeFrbjw_HGZL",
    "outputId": "c6eddbbb-e699-4add-9e47-a0a50b279bb2"
   },
   "outputs": [],
   "source": [
    "# showing the training loss and validation loss during the training process\n",
    "plt.plot(np.array(all_training_loss),label=\"training loss\")\n",
    "plt.plot(np.array(all_validation_loss), label=\"validation loss\")\n",
    "plt.title(\"Training Curve\")\n",
    "plt.legend()\n",
    "plt.show()"
   ]
  },
  {
   "cell_type": "markdown",
   "metadata": {
    "id": "voxjWSFfHGZL"
   },
   "source": [
    "### Test the Trained Network"
   ]
  },
  {
   "cell_type": "code",
   "execution_count": null,
   "metadata": {},
   "outputs": [],
   "source": [
    "def Test(data_path: str, model, dict_path: str, output_path: str):\n",
    "\n",
    "    # read file\n",
    "    df_test = open(data_path).read().splitlines()\n",
    "\n",
    "    # convert into formatted np array\n",
    "    games = [i.split(',', 1)[-1] for i in df_test]\n",
    "    game_ids = [i.split(',', 1)[0] for i in df_test]\n",
    "\n",
    "    x_test = []\n",
    "    for game in games:\n",
    "        moves_list = game.split(',')\n",
    "        filtered_list = [element for element in moves_list if element]\n",
    "        x_test.append(convert_game(filtered_list))\n",
    "\n",
    "    x_test = np.array(x_test)\n",
    "\n",
    "    # convert the np array into torch tensor\n",
    "    x_test = torch.Tensor(x_test)\n",
    "\n",
    "    # load the dictionary\n",
    "    model.load_state_dict(torch.load(\n",
    "        dict_path, map_location=torch.device('cpu')))\n",
    "    model.eval()\n",
    "\n",
    "    # evaluate the result\n",
    "    with torch.no_grad():\n",
    "        output = model(x_test)\n",
    "\n",
    "    # convert the result into value\n",
    "    ans = []\n",
    "    for o in output:\n",
    "        if (o[0] > 0.5):\n",
    "            ans.append(1)\n",
    "        elif (o[1] > 0.5):\n",
    "            ans.append(2)\n",
    "        else:\n",
    "            ans.append(3)\n",
    "\n",
    "    # append the answer to the csv file\n",
    "    with open(output_path, 'a+') as f:\n",
    "        for i in range(len(ans)):\n",
    "            f.write(f\"{game_ids[i]},{ans[i]}\\n\")\n"
   ]
  },
  {
   "cell_type": "code",
   "execution_count": null,
   "metadata": {},
   "outputs": [],
   "source": [
    "# Set up coordinate\n",
    "chars = 'abcdefghijklmnopqrs'\n",
    "coordinates = {k: v for v, k in enumerate(chars)}\n",
    "\n",
    "def convert_game(moves):\n",
    "    x = np.zeros((4, 19, 19))\n",
    "    last_move_color = moves[-1][0]\n",
    "\n",
    "    for move in moves:\n",
    "        color = move[0]\n",
    "        column = coordinates[move[2]]\n",
    "        row = coordinates[move[3]]\n",
    "        column = coordinates[move[2]]\n",
    "        row = coordinates[move[3]]\n",
    "        x[0, row, column] = 1\n",
    "\n",
    "        if (color == last_move_color):\n",
    "            x[2, row, column] = 1\n",
    "        else:\n",
    "            x[1, row, column] = 1\n",
    "\n",
    "    last_move_column = coordinates[moves[-1][2]]\n",
    "    last_move_row = coordinates[moves[-1][3]]\n",
    "    x[3, row, column] = 1\n",
    "\n",
    "    return x"
   ]
  },
  {
   "cell_type": "code",
   "execution_count": null,
   "metadata": {
    "id": "GKnaXIDLHGZL"
   },
   "outputs": [],
   "source": [
    "load_dict_name = './model_3_3.pt'\n",
    "TEST_PATH = \"./Testing Dataset/play_style_test_public.csv\"\n",
    "output_path = \"./public_prediction_model_3_3.csv\"\n"
   ]
  },
  {
   "cell_type": "code",
   "execution_count": null,
   "metadata": {
    "id": "tMNKjmFIHGZL"
   },
   "outputs": [],
   "source": [
    "model = model.to('cpu')\n",
    "Test(TEST_PATH,model, load_dict_name,output_path)"
   ]
  }
 ],
 "metadata": {
  "accelerator": "GPU",
  "colab": {
   "gpuType": "T4",
   "provenance": []
  },
  "kernelspec": {
   "display_name": "Python 3 (ipykernel)",
   "language": "python",
   "name": "python3"
  },
  "language_info": {
   "codemirror_mode": {
    "name": "ipython",
    "version": 3
   },
   "file_extension": ".py",
   "mimetype": "text/x-python",
   "name": "python",
   "nbconvert_exporter": "python",
   "pygments_lexer": "ipython3",
   "version": "3.10.11"
  }
 },
 "nbformat": 4,
 "nbformat_minor": 1
}
