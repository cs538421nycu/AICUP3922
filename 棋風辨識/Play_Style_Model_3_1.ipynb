{
 "cells": [
  {
   "cell_type": "markdown",
   "metadata": {
    "id": "Y4csqOu0HGZC"
   },
   "source": [
    "### About version"
   ]
  },
  {
   "cell_type": "code",
   "execution_count": 1,
   "metadata": {
    "id": "djuD3177HGZC"
   },
   "outputs": [],
   "source": [
    "version_name = \"model_3_1\""
   ]
  },
  {
   "cell_type": "markdown",
   "metadata": {
    "id": "GvJt4eRCHGZD"
   },
   "source": [
    "### Import libraries"
   ]
  },
  {
   "cell_type": "code",
   "execution_count": 2,
   "metadata": {
    "id": "hMQLth7KHGZD"
   },
   "outputs": [],
   "source": [
    "# Import libraries\n",
    "import torch\n",
    "import numpy as np\n",
    "import matplotlib.pyplot as plt\n",
    "%matplotlib inline\n",
    "\n",
    "# PyTorch dataset\n",
    "from torch.utils.data.sampler import SubsetRandomSampler\n",
    "\n",
    "# PyTorch model\n",
    "import torch.nn as nn\n",
    "import torch.nn.functional as F\n",
    "import torch.optim as optim\n",
    "from torch.optim.lr_scheduler import ReduceLROnPlateau\n"
   ]
  },
  {
   "cell_type": "markdown",
   "metadata": {
    "id": "8I7BVP2dHGZE"
   },
   "source": [
    "### Load Dataset"
   ]
  },
  {
   "cell_type": "code",
   "execution_count": 3,
   "metadata": {
    "id": "kZb1J17uHGZF"
   },
   "outputs": [],
   "source": [
    "df = open('./Training Dataset/play_style_train.csv').read().splitlines()\n",
    "# df = df[:25000]\n",
    "\n",
    "games = [i.split(',', 2)[-1] for i in df]\n",
    "game_styles = [int(i.split(',', 2)[-2]) for i in df]"
   ]
  },
  {
   "cell_type": "code",
   "execution_count": 4,
   "metadata": {
    "colab": {
     "base_uri": "https://localhost:8080/"
    },
    "id": "lEUjx9seHGZF",
    "outputId": "5a0480b2-7091-41ec-c00b-788948219166"
   },
   "outputs": [
    {
     "name": "stdout",
     "output_type": "stream",
     "text": [
      "B[dq],W[pd],B[qp],W[dd],B[cf],W[do],B[ck]\n",
      "[1, 1, 1, 1, 1, 2, 2, 2, 3, 3]\n"
     ]
    }
   ],
   "source": [
    "print(games[0])\n",
    "print(game_styles[:10])"
   ]
  },
  {
   "cell_type": "markdown",
   "metadata": {
    "id": "3Gc4gFcUHGZG"
   },
   "source": [
    "### Data processing"
   ]
  },
  {
   "cell_type": "code",
   "execution_count": null,
   "metadata": {},
   "outputs": [],
   "source": [
    "# Set up coordinate\n",
    "chars = 'abcdefghijklmnopqrs'\n",
    "coordinates = {k: v for v, k in enumerate(chars)}"
   ]
  },
  {
   "cell_type": "code",
   "execution_count": null,
   "metadata": {},
   "outputs": [],
   "source": [
    "def convert_game(moves):\n",
    "    x = np.zeros((4, 19, 19))\n",
    "    last_move_color = moves[-1][0]\n",
    "\n",
    "    for move in moves:\n",
    "        color = move[0]\n",
    "        column = coordinates[move[2]]\n",
    "        row = coordinates[move[3]]\n",
    "        column = coordinates[move[2]]\n",
    "        row = coordinates[move[3]]\n",
    "        x[0, row, column] = 1\n",
    "\n",
    "        if (color == last_move_color):\n",
    "            x[2, row, column] = 1\n",
    "        else:\n",
    "            x[1, row, column] = 1\n",
    "\n",
    "    last_move_column = coordinates[moves[-1][2]]\n",
    "    last_move_row = coordinates[moves[-1][3]]\n",
    "    x[3, row, column] = 1\n",
    "\n",
    "    return x"
   ]
  },
  {
   "cell_type": "code",
   "execution_count": null,
   "metadata": {},
   "outputs": [],
   "source": [
    "# Convert y into an one-hot array\n",
    "def one_hot_encoding(value):\n",
    "    one_hot = torch.eye(3)[value]\n",
    "    one_hot = np.array(one_hot)\n",
    "    return one_hot"
   ]
  },
  {
   "cell_type": "code",
   "execution_count": 6,
   "metadata": {
    "id": "F4uCw9LnHGZG"
   },
   "outputs": [],
   "source": [
    "x = []\n",
    "for game in games:\n",
    "    moves_list = game.split(',')\n",
    "    x.append(convert_game(moves_list))\n",
    "x = np.array(x)\n",
    "\n",
    "Y = []\n",
    "y = np.array(game_styles) - 1\n",
    "for yi in y:\n",
    "    Y.append(one_hot_encoding(yi))"
   ]
  },
  {
   "cell_type": "markdown",
   "metadata": {
    "id": "xUTUWyUMHGZH"
   },
   "source": [
    "### Data Transform"
   ]
  },
  {
   "cell_type": "code",
   "execution_count": 8,
   "metadata": {
    "id": "kEQasJUdHGZH"
   },
   "outputs": [],
   "source": [
    "# flip and rotate the image to increase the training data\n",
    "def flip_rotate(feature: np.ndarray, target: np.ndarray):\n",
    "    a0 = np.array(feature)\n",
    "    a1 = np.rot90(a0, axes=(2, 3))\n",
    "    a2 = np.rot90(a1, axes=(2, 3))\n",
    "    a3 = np.rot90(a2, axes=(2, 3))\n",
    "    b0 = np.flip(a0, axis=3)\n",
    "    b1 = np.rot90(b0, axes=(2, 3))\n",
    "    b2 = np.rot90(b1, axes=(2, 3))\n",
    "    b3 = np.rot90(b2, axes=(2, 3))\n",
    "\n",
    "    c = np.concatenate((a0, a1, a2, a3, b0, b1, b2, b3), axis=0)\n",
    "\n",
    "    d = np.concatenate((target, target, target, target,\n",
    "                       target, target, target, target), axis=0)\n",
    "    return c, d\n"
   ]
  },
  {
   "cell_type": "code",
   "execution_count": 9,
   "metadata": {
    "id": "xOGE733-HGZH"
   },
   "outputs": [],
   "source": [
    "x,y = flip_rotate(x, Y)"
   ]
  },
  {
   "cell_type": "markdown",
   "metadata": {
    "id": "k1dgKcNRHGZI"
   },
   "source": [
    "### Load Data"
   ]
  },
  {
   "cell_type": "code",
   "execution_count": 10,
   "metadata": {
    "id": "jdGPggmjHGZI"
   },
   "outputs": [],
   "source": [
    "# number of subprocesses to use for data loading\n",
    "num_workers = 0\n",
    "# how many samples per batch to load\n",
    "batch_size = 64\n",
    "# percentage of training set to use as validation\n",
    "valid_size = 0.1"
   ]
  },
  {
   "cell_type": "code",
   "execution_count": 11,
   "metadata": {
    "colab": {
     "base_uri": "https://localhost:8080/"
    },
    "id": "j6mzUjAYHGZI",
    "outputId": "c286d4b1-d342-4d18-c690-67024ba701bf"
   },
   "outputs": [
    {
     "name": "stdout",
     "output_type": "stream",
     "text": [
      "212920 64 3326 212864 21248\n"
     ]
    }
   ],
   "source": [
    "# obtain training indices that will be used for validation\n",
    "num_batch = len(x) // batch_size\n",
    "num_train = num_batch * batch_size\n",
    "indices = list(range(num_train))\n",
    "np.random.shuffle(indices)\n",
    "split = int(np.floor(valid_size * num_batch)) * batch_size\n",
    "train_idx, valid_idx = indices[split:], indices[:split]\n",
    "print(len(x), batch_size, num_batch, num_train, split)"
   ]
  },
  {
   "cell_type": "code",
   "execution_count": 12,
   "metadata": {
    "colab": {
     "base_uri": "https://localhost:8080/"
    },
    "id": "n3pNAXDvHGZI",
    "outputId": "2254ecd2-755d-477c-f87e-ee7783bb568e"
   },
   "outputs": [
    {
     "name": "stdout",
     "output_type": "stream",
     "text": [
      "191616 21248\n"
     ]
    }
   ],
   "source": [
    "# define samplers for obtaining training and validation batches\n",
    "train_sampler = SubsetRandomSampler(train_idx)\n",
    "valid_sampler = SubsetRandomSampler(valid_idx)\n",
    "print(len(train_sampler), len(valid_sampler))"
   ]
  },
  {
   "cell_type": "code",
   "execution_count": 13,
   "metadata": {
    "id": "k_xDbr-wHGZI"
   },
   "outputs": [],
   "source": [
    "# prepare data loaders (combine dataset and sampler)\n",
    "x = torch.Tensor(x)\n",
    "y = torch.Tensor(y)\n",
    "\n",
    "dataset = torch.utils.data.TensorDataset(x, y)\n",
    "\n",
    "train_loader = torch.utils.data.DataLoader(\n",
    "    dataset,\n",
    "    batch_size=batch_size,\n",
    "    sampler=train_sampler,\n",
    "    num_workers=num_workers\n",
    ")\n",
    "valid_loader = torch.utils.data.DataLoader(\n",
    "    dataset,\n",
    "    batch_size=batch_size,\n",
    "    sampler=valid_sampler,\n",
    "    num_workers=num_workers\n",
    ")"
   ]
  },
  {
   "cell_type": "markdown",
   "metadata": {
    "id": "jEpfJM4fHGZJ"
   },
   "source": [
    "### Define Model"
   ]
  },
  {
   "cell_type": "code",
   "execution_count": 14,
   "metadata": {
    "id": "r9vnPfWNHGZJ"
   },
   "outputs": [],
   "source": [
    "class InputBlock(nn.Module):\n",
    "    def __init__(self, in_planes, out_planes, stride=1):\n",
    "        super(InputBlock, self).__init__()\n",
    "        self.conv1 = nn.Conv2d(in_planes, out_planes, kernel_size=1, stride=1, padding=0, bias=False)\n",
    "        self.conv2 = nn.Conv2d(in_planes, out_planes, kernel_size=3, stride=1, padding=1, bias=False)\n",
    "        self.conv3 = nn.Conv2d(in_planes, out_planes, kernel_size=5, stride=1, padding=2, bias=False)\n",
    "\n",
    "    def forward(self, x):\n",
    "        out = self.conv1(x) + self.conv2(x) + self.conv3(x)\n",
    "        out = F.relu(out)\n",
    "        return out\n",
    "\n",
    "class BasicBlock(nn.Module):\n",
    "    def __init__(self, in_planes, out_planes, stride=1):\n",
    "        super(BasicBlock, self).__init__()\n",
    "        self.conv1 = nn.Conv2d(in_planes, out_planes, kernel_size=3, stride=stride, padding=1, bias=False)\n",
    "        self.conv2 = nn.Conv2d(out_planes, out_planes, kernel_size=3, stride=stride, padding=1, bias=False)\n",
    "        self.shortcut = nn.Sequential()\n",
    "\n",
    "    def forward(self, x):\n",
    "        out = F.relu(self.conv1(x))\n",
    "        out = self.conv2(out)\n",
    "        out += self.shortcut(x)\n",
    "        out = F.relu(out)\n",
    "        return out\n",
    "\n",
    "class ResNet(nn.Module):\n",
    "    def __init__(self, in_planes=4, num_blocks=10):\n",
    "        super(ResNet, self).__init__()\n",
    "        self.layer1 = InputBlock(in_planes, out_planes=12, stride=1)\n",
    "        self.layer2 = self.make_layer(BasicBlock, 12, num_blocks)\n",
    "        self.layer3 = nn.Conv2d(12, 3, kernel_size=3, stride=1, padding=1, bias=False)\n",
    "        self.flatten = nn.Flatten()\n",
    "\n",
    "        self.fc1 = nn.Linear(1083, 256)\n",
    "        self.fc2 = nn.Linear(256, 64)\n",
    "        self.fc3 = nn.Linear(64, 3)\n",
    "\n",
    "        self.dropout = nn.Dropout(0.25)\n",
    "\n",
    "\n",
    "    def make_layer(self, block, planes, num_blocks):\n",
    "        layers = []\n",
    "        for n in range(num_blocks):\n",
    "            layers.append(block(planes, planes))\n",
    "        return nn.Sequential(*layers)\n",
    "\n",
    "    def forward(self, x):\n",
    "        out = self.layer1(x)\n",
    "        out = self.layer2(out)\n",
    "        out = self.layer3(out)\n",
    "        out = self.flatten(out)\n",
    "\n",
    "        out = F.relu(self.fc1(out))\n",
    "        out = self.dropout(out)\n",
    "        out = F.relu(self.fc2(out))\n",
    "        out = self.dropout(out)\n",
    "        out = F.softmax(self.fc3(out), dim=1)\n",
    "        return out"
   ]
  },
  {
   "cell_type": "code",
   "execution_count": 15,
   "metadata": {
    "colab": {
     "base_uri": "https://localhost:8080/"
    },
    "id": "HxW8fuq6HGZJ",
    "outputId": "3ddd053d-4bdd-47da-aa29-f811ddfa968b"
   },
   "outputs": [
    {
     "data": {
      "text/plain": [
       "ResNet(\n",
       "  (layer1): InputBlock(\n",
       "    (conv1): Conv2d(4, 12, kernel_size=(1, 1), stride=(1, 1), bias=False)\n",
       "    (conv2): Conv2d(4, 12, kernel_size=(3, 3), stride=(1, 1), padding=(1, 1), bias=False)\n",
       "    (conv3): Conv2d(4, 12, kernel_size=(5, 5), stride=(1, 1), padding=(2, 2), bias=False)\n",
       "  )\n",
       "  (layer2): Sequential(\n",
       "    (0): BasicBlock(\n",
       "      (conv1): Conv2d(12, 12, kernel_size=(3, 3), stride=(1, 1), padding=(1, 1), bias=False)\n",
       "      (conv2): Conv2d(12, 12, kernel_size=(3, 3), stride=(1, 1), padding=(1, 1), bias=False)\n",
       "      (shortcut): Sequential()\n",
       "    )\n",
       "    (1): BasicBlock(\n",
       "      (conv1): Conv2d(12, 12, kernel_size=(3, 3), stride=(1, 1), padding=(1, 1), bias=False)\n",
       "      (conv2): Conv2d(12, 12, kernel_size=(3, 3), stride=(1, 1), padding=(1, 1), bias=False)\n",
       "      (shortcut): Sequential()\n",
       "    )\n",
       "    (2): BasicBlock(\n",
       "      (conv1): Conv2d(12, 12, kernel_size=(3, 3), stride=(1, 1), padding=(1, 1), bias=False)\n",
       "      (conv2): Conv2d(12, 12, kernel_size=(3, 3), stride=(1, 1), padding=(1, 1), bias=False)\n",
       "      (shortcut): Sequential()\n",
       "    )\n",
       "    (3): BasicBlock(\n",
       "      (conv1): Conv2d(12, 12, kernel_size=(3, 3), stride=(1, 1), padding=(1, 1), bias=False)\n",
       "      (conv2): Conv2d(12, 12, kernel_size=(3, 3), stride=(1, 1), padding=(1, 1), bias=False)\n",
       "      (shortcut): Sequential()\n",
       "    )\n",
       "    (4): BasicBlock(\n",
       "      (conv1): Conv2d(12, 12, kernel_size=(3, 3), stride=(1, 1), padding=(1, 1), bias=False)\n",
       "      (conv2): Conv2d(12, 12, kernel_size=(3, 3), stride=(1, 1), padding=(1, 1), bias=False)\n",
       "      (shortcut): Sequential()\n",
       "    )\n",
       "    (5): BasicBlock(\n",
       "      (conv1): Conv2d(12, 12, kernel_size=(3, 3), stride=(1, 1), padding=(1, 1), bias=False)\n",
       "      (conv2): Conv2d(12, 12, kernel_size=(3, 3), stride=(1, 1), padding=(1, 1), bias=False)\n",
       "      (shortcut): Sequential()\n",
       "    )\n",
       "    (6): BasicBlock(\n",
       "      (conv1): Conv2d(12, 12, kernel_size=(3, 3), stride=(1, 1), padding=(1, 1), bias=False)\n",
       "      (conv2): Conv2d(12, 12, kernel_size=(3, 3), stride=(1, 1), padding=(1, 1), bias=False)\n",
       "      (shortcut): Sequential()\n",
       "    )\n",
       "    (7): BasicBlock(\n",
       "      (conv1): Conv2d(12, 12, kernel_size=(3, 3), stride=(1, 1), padding=(1, 1), bias=False)\n",
       "      (conv2): Conv2d(12, 12, kernel_size=(3, 3), stride=(1, 1), padding=(1, 1), bias=False)\n",
       "      (shortcut): Sequential()\n",
       "    )\n",
       "    (8): BasicBlock(\n",
       "      (conv1): Conv2d(12, 12, kernel_size=(3, 3), stride=(1, 1), padding=(1, 1), bias=False)\n",
       "      (conv2): Conv2d(12, 12, kernel_size=(3, 3), stride=(1, 1), padding=(1, 1), bias=False)\n",
       "      (shortcut): Sequential()\n",
       "    )\n",
       "    (9): BasicBlock(\n",
       "      (conv1): Conv2d(12, 12, kernel_size=(3, 3), stride=(1, 1), padding=(1, 1), bias=False)\n",
       "      (conv2): Conv2d(12, 12, kernel_size=(3, 3), stride=(1, 1), padding=(1, 1), bias=False)\n",
       "      (shortcut): Sequential()\n",
       "    )\n",
       "    (10): BasicBlock(\n",
       "      (conv1): Conv2d(12, 12, kernel_size=(3, 3), stride=(1, 1), padding=(1, 1), bias=False)\n",
       "      (conv2): Conv2d(12, 12, kernel_size=(3, 3), stride=(1, 1), padding=(1, 1), bias=False)\n",
       "      (shortcut): Sequential()\n",
       "    )\n",
       "    (11): BasicBlock(\n",
       "      (conv1): Conv2d(12, 12, kernel_size=(3, 3), stride=(1, 1), padding=(1, 1), bias=False)\n",
       "      (conv2): Conv2d(12, 12, kernel_size=(3, 3), stride=(1, 1), padding=(1, 1), bias=False)\n",
       "      (shortcut): Sequential()\n",
       "    )\n",
       "  )\n",
       "  (layer3): Conv2d(12, 3, kernel_size=(3, 3), stride=(1, 1), padding=(1, 1), bias=False)\n",
       "  (flatten): Flatten(start_dim=1, end_dim=-1)\n",
       "  (fc1): Linear(in_features=1083, out_features=256, bias=True)\n",
       "  (fc2): Linear(in_features=256, out_features=64, bias=True)\n",
       "  (fc5): Linear(in_features=64, out_features=3, bias=True)\n",
       "  (dropout): Dropout(p=0.25, inplace=False)\n",
       ")"
      ]
     },
     "execution_count": 15,
     "metadata": {},
     "output_type": "execute_result"
    }
   ],
   "source": [
    "model = ResNet(in_planes=4, num_blocks=12)\n",
    "model\n"
   ]
  },
  {
   "cell_type": "markdown",
   "metadata": {
    "id": "Gc7OLy8SHGZK"
   },
   "source": [
    "### Make directory\n"
   ]
  },
  {
   "cell_type": "code",
   "execution_count": 102,
   "metadata": {
    "colab": {
     "base_uri": "https://localhost:8080/"
    },
    "id": "v01SFcikHGZK",
    "outputId": "82c7be42-9129-43fe-fcd8-c80c7dca2483"
   },
   "outputs": [
    {
     "name": "stdout",
     "output_type": "stream",
     "text": [
      "Directory './play_style_v17' already exists.\n"
     ]
    }
   ],
   "source": [
    "# Make a directory to retore the paarameters of model of each epoch\n",
    "import os\n",
    "\n",
    "directory_path = f\"./{version_name}\"\n",
    "\n",
    "# Check if the directory already exists\n",
    "if not os.path.exists(directory_path):\n",
    "    # If it doesn't exist, create the directory\n",
    "    os.makedirs(directory_path)\n",
    "    print(f\"Directory '{directory_path}' created successfully.\")\n",
    "else:\n",
    "    print(f\"Directory '{directory_path}' already exists.\")"
   ]
  },
  {
   "cell_type": "markdown",
   "metadata": {
    "id": "ytnrLuaZHGZK"
   },
   "source": [
    "### Training The Model"
   ]
  },
  {
   "cell_type": "code",
   "execution_count": 103,
   "metadata": {
    "colab": {
     "base_uri": "https://localhost:8080/"
    },
    "id": "hI2IzgfpHGZK",
    "outputId": "be50b934-bd98-4e12-a770-d505bb9c08e5"
   },
   "outputs": [
    {
     "name": "stdout",
     "output_type": "stream",
     "text": [
      "CUDA is available!  Training on GPU ...\n"
     ]
    }
   ],
   "source": [
    "# check if CUDA is available\n",
    "train_on_gpu = torch.cuda.is_available()\n",
    "\n",
    "if not train_on_gpu:\n",
    "    print('CUDA is not available.  Training on CPU ...')\n",
    "    mps_device = torch.device(\"mps\")\n",
    "else:\n",
    "    print('CUDA is available!  Training on GPU ...')\n",
    "\n",
    "# move tensors to GPU if CUDA is available\n",
    "if train_on_gpu:\n",
    "    model.cuda()\n",
    "else:\n",
    "    model.to(mps_device)"
   ]
  },
  {
   "cell_type": "code",
   "execution_count": 104,
   "metadata": {
    "id": "ShzqNVgdHGZK"
   },
   "outputs": [],
   "source": [
    "class_weights = torch.tensor([1.5, 1.0, 1.0])\n",
    "class_weights = class_weights.cuda()\n",
    "\n",
    "criterion = nn.CrossEntropyLoss(weight=class_weights)\n",
    "optimizer = optim.Adam(model.parameters(), lr=0.01)\n",
    "scheduler = ReduceLROnPlateau(optimizer, mode='min', patience=5000, factor=0.97, min_lr=5e-7)"
   ]
  },
  {
   "cell_type": "code",
   "execution_count": null,
   "metadata": {
    "colab": {
     "base_uri": "https://localhost:8080/"
    },
    "id": "9xQzw7XrHGZK",
    "outputId": "5db1b74e-f37c-4b75-fee0-81adab5fab3e"
   },
   "outputs": [
    {
     "name": "stderr",
     "output_type": "stream",
     "text": [
      "100%|██████████| 2994/2994 [00:17<00:00, 171.50it/s]\n",
      "100%|██████████| 332/332 [00:02<00:00, 159.14it/s]\n"
     ]
    },
    {
     "name": "stdout",
     "output_type": "stream",
     "text": [
      "Epoch: 1 \n",
      "\tTraining Loss: 1.197320 \n",
      "\tValidation Loss: 1.095632 [Minimum Validation Loss in the History: inf]\n",
      "\t\tValidation Accuracy of style 1: 55% (3606/6473)\n",
      "\t\tValidation Accuracy of style 2: 71% (5475/7619)\n",
      "\t\tValidation Accuracy of style 3: 66% (4751/7156)\n",
      "\t\tTotal Accuracy: 65.10% (13832/21248)\n",
      "\t***** Validation loss decreased (inf --> 1.095632).  Saving model ... *****\n"
     ]
    },
    {
     "name": "stderr",
     "output_type": "stream",
     "text": [
      "100%|██████████| 2994/2994 [00:17<00:00, 175.73it/s]\n",
      "100%|██████████| 332/332 [00:02<00:00, 156.31it/s]\n"
     ]
    },
    {
     "name": "stdout",
     "output_type": "stream",
     "text": [
      "Epoch: 2 \n",
      "\tTraining Loss: 1.091741 \n",
      "\tValidation Loss: 1.075700 [Minimum Validation Loss in the History: 1.095632]\n",
      "\t\tValidation Accuracy of style 1: 60% (3893/6473)\n",
      "\t\tValidation Accuracy of style 2: 70% (5378/7619)\n",
      "\t\tValidation Accuracy of style 3: 70% (5069/7156)\n",
      "\t\tTotal Accuracy: 67.49% (14340/21248)\n",
      "\t***** Validation loss decreased (1.095632 --> 1.075700).  Saving model ... *****\n"
     ]
    },
    {
     "name": "stderr",
     "output_type": "stream",
     "text": [
      "100%|██████████| 2994/2994 [00:17<00:00, 174.28it/s]\n",
      "100%|██████████| 332/332 [00:02<00:00, 157.68it/s]\n"
     ]
    },
    {
     "name": "stdout",
     "output_type": "stream",
     "text": [
      "Epoch: 3 \n",
      "\tTraining Loss: 1.073790 \n",
      "\tValidation Loss: 1.060206 [Minimum Validation Loss in the History: 1.075700]\n",
      "\t\tValidation Accuracy of style 1: 67% (4353/6473)\n",
      "\t\tValidation Accuracy of style 2: 69% (5287/7619)\n",
      "\t\tValidation Accuracy of style 3: 70% (5011/7156)\n",
      "\t\tTotal Accuracy: 68.95% (14651/21248)\n",
      "\t***** Validation loss decreased (1.075700 --> 1.060206).  Saving model ... *****\n"
     ]
    },
    {
     "name": "stderr",
     "output_type": "stream",
     "text": [
      "100%|██████████| 2994/2994 [00:17<00:00, 175.41it/s]\n",
      "100%|██████████| 332/332 [00:02<00:00, 158.79it/s]\n"
     ]
    },
    {
     "name": "stdout",
     "output_type": "stream",
     "text": [
      "Epoch: 4 \n",
      "\tTraining Loss: 1.063566 \n",
      "\tValidation Loss: 1.052596 [Minimum Validation Loss in the History: 1.060206]\n",
      "\t\tValidation Accuracy of style 1: 66% (4302/6473)\n",
      "\t\tValidation Accuracy of style 2: 70% (5403/7619)\n",
      "\t\tValidation Accuracy of style 3: 70% (5070/7156)\n",
      "\t\tTotal Accuracy: 69.54% (14775/21248)\n",
      "\t***** Validation loss decreased (1.060206 --> 1.052596).  Saving model ... *****\n"
     ]
    },
    {
     "name": "stderr",
     "output_type": "stream",
     "text": [
      "100%|██████████| 2994/2994 [00:17<00:00, 173.32it/s]\n",
      "100%|██████████| 332/332 [00:02<00:00, 159.95it/s]\n"
     ]
    },
    {
     "name": "stdout",
     "output_type": "stream",
     "text": [
      "Epoch: 5 \n",
      "\tTraining Loss: 1.056079 \n",
      "\tValidation Loss: 1.055288 [Minimum Validation Loss in the History: 1.052596]\n",
      "\t\tValidation Accuracy of style 1: 70% (4572/6473)\n",
      "\t\tValidation Accuracy of style 2: 68% (5192/7619)\n",
      "\t\tValidation Accuracy of style 3: 69% (4957/7156)\n",
      "\t\tTotal Accuracy: 69.28% (14721/21248)\n"
     ]
    },
    {
     "name": "stderr",
     "output_type": "stream",
     "text": [
      "100%|██████████| 2994/2994 [00:17<00:00, 174.35it/s]\n",
      "100%|██████████| 332/332 [00:02<00:00, 157.66it/s]\n"
     ]
    },
    {
     "name": "stdout",
     "output_type": "stream",
     "text": [
      "Epoch: 6 \n",
      "\tTraining Loss: 1.047821 \n",
      "\tValidation Loss: 1.039606 [Minimum Validation Loss in the History: 1.052596]\n",
      "\t\tValidation Accuracy of style 1: 68% (4424/6473)\n",
      "\t\tValidation Accuracy of style 2: 71% (5465/7619)\n",
      "\t\tValidation Accuracy of style 3: 71% (5136/7156)\n",
      "\t\tTotal Accuracy: 70.71% (15025/21248)\n",
      "\t***** Validation loss decreased (1.052596 --> 1.039606).  Saving model ... *****\n"
     ]
    },
    {
     "name": "stderr",
     "output_type": "stream",
     "text": [
      "100%|██████████| 2994/2994 [00:17<00:00, 173.03it/s]\n",
      "100%|██████████| 332/332 [00:02<00:00, 158.59it/s]\n"
     ]
    },
    {
     "name": "stdout",
     "output_type": "stream",
     "text": [
      "Epoch: 7 \n",
      "\tTraining Loss: 1.042900 \n",
      "\tValidation Loss: 1.048238 [Minimum Validation Loss in the History: 1.039606]\n",
      "\t\tValidation Accuracy of style 1: 56% (3654/6473)\n",
      "\t\tValidation Accuracy of style 2: 75% (5763/7619)\n",
      "\t\tValidation Accuracy of style 3: 75% (5380/7156)\n",
      "\t\tTotal Accuracy: 69.64% (14797/21248)\n"
     ]
    },
    {
     "name": "stderr",
     "output_type": "stream",
     "text": [
      "100%|██████████| 2994/2994 [00:17<00:00, 173.57it/s]\n",
      "100%|██████████| 332/332 [00:02<00:00, 159.92it/s]\n"
     ]
    },
    {
     "name": "stdout",
     "output_type": "stream",
     "text": [
      "Epoch: 8 \n",
      "\tTraining Loss: 1.037971 \n",
      "\tValidation Loss: 1.041955 [Minimum Validation Loss in the History: 1.039606]\n",
      "\t\tValidation Accuracy of style 1: 60% (3916/6473)\n",
      "\t\tValidation Accuracy of style 2: 74% (5645/7619)\n",
      "\t\tValidation Accuracy of style 3: 75% (5369/7156)\n",
      "\t\tTotal Accuracy: 70.27% (14930/21248)\n"
     ]
    },
    {
     "name": "stderr",
     "output_type": "stream",
     "text": [
      "100%|██████████| 2994/2994 [00:16<00:00, 176.82it/s]\n",
      "100%|██████████| 332/332 [00:02<00:00, 154.60it/s]\n"
     ]
    },
    {
     "name": "stdout",
     "output_type": "stream",
     "text": [
      "Epoch: 9 \n",
      "\tTraining Loss: 1.033407 \n",
      "\tValidation Loss: 1.030049 [Minimum Validation Loss in the History: 1.039606]\n",
      "\t\tValidation Accuracy of style 1: 64% (4196/6473)\n",
      "\t\tValidation Accuracy of style 2: 75% (5719/7619)\n",
      "\t\tValidation Accuracy of style 3: 73% (5240/7156)\n",
      "\t\tTotal Accuracy: 71.32% (15155/21248)\n",
      "\t***** Validation loss decreased (1.039606 --> 1.030049).  Saving model ... *****\n"
     ]
    },
    {
     "name": "stderr",
     "output_type": "stream",
     "text": [
      "100%|██████████| 2994/2994 [00:17<00:00, 175.08it/s]\n",
      "100%|██████████| 332/332 [00:02<00:00, 158.29it/s]\n"
     ]
    },
    {
     "name": "stdout",
     "output_type": "stream",
     "text": [
      "Epoch: 10 \n",
      "\tTraining Loss: 1.029169 \n",
      "\tValidation Loss: 1.033523 [Minimum Validation Loss in the History: 1.030049]\n",
      "\t\tValidation Accuracy of style 1: 76% (4981/6473)\n",
      "\t\tValidation Accuracy of style 2: 68% (5188/7619)\n",
      "\t\tValidation Accuracy of style 3: 69% (5002/7156)\n",
      "\t\tTotal Accuracy: 71.40% (15171/21248)\n"
     ]
    },
    {
     "name": "stderr",
     "output_type": "stream",
     "text": [
      "100%|██████████| 2994/2994 [00:17<00:00, 174.85it/s]\n",
      "100%|██████████| 332/332 [00:02<00:00, 158.09it/s]\n"
     ]
    },
    {
     "name": "stdout",
     "output_type": "stream",
     "text": [
      "Epoch: 11 \n",
      "\tTraining Loss: 1.025688 \n",
      "\tValidation Loss: 1.023550 [Minimum Validation Loss in the History: 1.030049]\n",
      "\t\tValidation Accuracy of style 1: 67% (4371/6473)\n",
      "\t\tValidation Accuracy of style 2: 73% (5606/7619)\n",
      "\t\tValidation Accuracy of style 3: 74% (5329/7156)\n",
      "\t\tTotal Accuracy: 72.04% (15306/21248)\n",
      "\t***** Validation loss decreased (1.030049 --> 1.023550).  Saving model ... *****\n"
     ]
    },
    {
     "name": "stderr",
     "output_type": "stream",
     "text": [
      "100%|██████████| 2994/2994 [00:17<00:00, 172.96it/s]\n",
      "100%|██████████| 332/332 [00:02<00:00, 158.83it/s]\n"
     ]
    },
    {
     "name": "stdout",
     "output_type": "stream",
     "text": [
      "Epoch: 12 \n",
      "\tTraining Loss: 1.022222 \n",
      "\tValidation Loss: 1.025864 [Minimum Validation Loss in the History: 1.023550]\n",
      "\t\tValidation Accuracy of style 1: 65% (4259/6473)\n",
      "\t\tValidation Accuracy of style 2: 74% (5655/7619)\n",
      "\t\tValidation Accuracy of style 3: 74% (5320/7156)\n",
      "\t\tTotal Accuracy: 71.70% (15234/21248)\n"
     ]
    },
    {
     "name": "stderr",
     "output_type": "stream",
     "text": [
      "100%|██████████| 2994/2994 [00:16<00:00, 176.37it/s]\n",
      "100%|██████████| 332/332 [00:02<00:00, 158.32it/s]\n"
     ]
    },
    {
     "name": "stdout",
     "output_type": "stream",
     "text": [
      "Epoch: 13 \n",
      "\tTraining Loss: 1.018741 \n",
      "\tValidation Loss: 1.027344 [Minimum Validation Loss in the History: 1.023550]\n",
      "\t\tValidation Accuracy of style 1: 73% (4730/6473)\n",
      "\t\tValidation Accuracy of style 2: 74% (5640/7619)\n",
      "\t\tValidation Accuracy of style 3: 66% (4762/7156)\n",
      "\t\tTotal Accuracy: 71.22% (15132/21248)\n"
     ]
    },
    {
     "name": "stderr",
     "output_type": "stream",
     "text": [
      "100%|██████████| 2994/2994 [00:17<00:00, 174.27it/s]\n",
      "100%|██████████| 332/332 [00:02<00:00, 156.67it/s]\n"
     ]
    },
    {
     "name": "stdout",
     "output_type": "stream",
     "text": [
      "Epoch: 14 \n",
      "\tTraining Loss: 1.015895 \n",
      "\tValidation Loss: 1.023238 [Minimum Validation Loss in the History: 1.023550]\n",
      "\t\tValidation Accuracy of style 1: 75% (4873/6473)\n",
      "\t\tValidation Accuracy of style 2: 71% (5413/7619)\n",
      "\t\tValidation Accuracy of style 3: 70% (5014/7156)\n",
      "\t\tTotal Accuracy: 72.01% (15300/21248)\n",
      "\t***** Validation loss decreased (1.023550 --> 1.023238).  Saving model ... *****\n"
     ]
    },
    {
     "name": "stderr",
     "output_type": "stream",
     "text": [
      "100%|██████████| 2994/2994 [00:17<00:00, 173.01it/s]\n",
      "100%|██████████| 332/332 [00:02<00:00, 157.52it/s]\n"
     ]
    },
    {
     "name": "stdout",
     "output_type": "stream",
     "text": [
      "Epoch: 15 \n",
      "\tTraining Loss: 1.013467 \n",
      "\tValidation Loss: 1.018903 [Minimum Validation Loss in the History: 1.023238]\n",
      "\t\tValidation Accuracy of style 1: 74% (4795/6473)\n",
      "\t\tValidation Accuracy of style 2: 72% (5516/7619)\n",
      "\t\tValidation Accuracy of style 3: 70% (5052/7156)\n",
      "\t\tTotal Accuracy: 72.30% (15363/21248)\n",
      "\t***** Validation loss decreased (1.023238 --> 1.018903).  Saving model ... *****\n"
     ]
    },
    {
     "name": "stderr",
     "output_type": "stream",
     "text": [
      "100%|██████████| 2994/2994 [00:16<00:00, 176.31it/s]\n",
      "100%|██████████| 332/332 [00:02<00:00, 156.36it/s]\n"
     ]
    },
    {
     "name": "stdout",
     "output_type": "stream",
     "text": [
      "Epoch: 16 \n",
      "\tTraining Loss: 1.010677 \n",
      "\tValidation Loss: 1.016329 [Minimum Validation Loss in the History: 1.018903]\n",
      "\t\tValidation Accuracy of style 1: 72% (4662/6473)\n",
      "\t\tValidation Accuracy of style 2: 72% (5501/7619)\n",
      "\t\tValidation Accuracy of style 3: 74% (5301/7156)\n",
      "\t\tTotal Accuracy: 72.78% (15464/21248)\n",
      "\t***** Validation loss decreased (1.018903 --> 1.016329).  Saving model ... *****\n"
     ]
    },
    {
     "name": "stderr",
     "output_type": "stream",
     "text": [
      "100%|██████████| 2994/2994 [00:17<00:00, 172.99it/s]\n",
      "100%|██████████| 332/332 [00:02<00:00, 159.85it/s]\n"
     ]
    },
    {
     "name": "stdout",
     "output_type": "stream",
     "text": [
      "Epoch: 17 \n",
      "\tTraining Loss: 1.007865 \n",
      "\tValidation Loss: 1.016510 [Minimum Validation Loss in the History: 1.016329]\n",
      "\t\tValidation Accuracy of style 1: 72% (4716/6473)\n",
      "\t\tValidation Accuracy of style 2: 73% (5578/7619)\n",
      "\t\tValidation Accuracy of style 3: 71% (5096/7156)\n",
      "\t\tTotal Accuracy: 72.43% (15390/21248)\n"
     ]
    },
    {
     "name": "stderr",
     "output_type": "stream",
     "text": [
      "100%|██████████| 2994/2994 [00:17<00:00, 175.52it/s]\n",
      "100%|██████████| 332/332 [00:02<00:00, 158.99it/s]\n"
     ]
    },
    {
     "name": "stdout",
     "output_type": "stream",
     "text": [
      "Epoch: 18 \n",
      "\tTraining Loss: 1.005286 \n",
      "\tValidation Loss: 1.017684 [Minimum Validation Loss in the History: 1.016329]\n",
      "\t\tValidation Accuracy of style 1: 73% (4789/6473)\n",
      "\t\tValidation Accuracy of style 2: 72% (5547/7619)\n",
      "\t\tValidation Accuracy of style 3: 70% (5013/7156)\n",
      "\t\tTotal Accuracy: 72.24% (15349/21248)\n"
     ]
    },
    {
     "name": "stderr",
     "output_type": "stream",
     "text": [
      "100%|██████████| 2994/2994 [00:17<00:00, 172.47it/s]\n",
      "100%|██████████| 332/332 [00:02<00:00, 158.73it/s]\n"
     ]
    },
    {
     "name": "stdout",
     "output_type": "stream",
     "text": [
      "Epoch: 19 \n",
      "\tTraining Loss: 1.002524 \n",
      "\tValidation Loss: 1.020636 [Minimum Validation Loss in the History: 1.016329]\n",
      "\t\tValidation Accuracy of style 1: 77% (4995/6473)\n",
      "\t\tValidation Accuracy of style 2: 69% (5281/7619)\n",
      "\t\tValidation Accuracy of style 3: 71% (5148/7156)\n",
      "\t\tTotal Accuracy: 72.59% (15424/21248)\n"
     ]
    },
    {
     "name": "stderr",
     "output_type": "stream",
     "text": [
      "100%|██████████| 2994/2994 [00:16<00:00, 177.15it/s]\n",
      "100%|██████████| 332/332 [00:02<00:00, 148.95it/s]\n"
     ]
    },
    {
     "name": "stdout",
     "output_type": "stream",
     "text": [
      "Epoch: 20 \n",
      "\tTraining Loss: 1.000479 \n",
      "\tValidation Loss: 1.039616 [Minimum Validation Loss in the History: 1.016329]\n",
      "\t\tValidation Accuracy of style 1: 83% (5414/6473)\n",
      "\t\tValidation Accuracy of style 2: 63% (4864/7619)\n",
      "\t\tValidation Accuracy of style 3: 67% (4840/7156)\n",
      "\t\tTotal Accuracy: 71.15% (15118/21248)\n"
     ]
    },
    {
     "name": "stderr",
     "output_type": "stream",
     "text": [
      "100%|██████████| 2994/2994 [00:17<00:00, 175.29it/s]\n",
      "100%|██████████| 332/332 [00:02<00:00, 158.69it/s]\n"
     ]
    },
    {
     "name": "stdout",
     "output_type": "stream",
     "text": [
      "Epoch: 21 \n",
      "\tTraining Loss: 0.997714 \n",
      "\tValidation Loss: 1.013140 [Minimum Validation Loss in the History: 1.016329]\n",
      "\t\tValidation Accuracy of style 1: 70% (4543/6473)\n",
      "\t\tValidation Accuracy of style 2: 73% (5626/7619)\n",
      "\t\tValidation Accuracy of style 3: 74% (5310/7156)\n",
      "\t\tTotal Accuracy: 72.85% (15479/21248)\n",
      "\t***** Validation loss decreased (1.016329 --> 1.013140).  Saving model ... *****\n"
     ]
    },
    {
     "name": "stderr",
     "output_type": "stream",
     "text": [
      "100%|██████████| 2994/2994 [00:17<00:00, 173.67it/s]\n",
      "100%|██████████| 332/332 [00:02<00:00, 157.89it/s]\n"
     ]
    },
    {
     "name": "stdout",
     "output_type": "stream",
     "text": [
      "Epoch: 22 \n",
      "\tTraining Loss: 0.995414 \n",
      "\tValidation Loss: 1.012819 [Minimum Validation Loss in the History: 1.013140]\n",
      "\t\tValidation Accuracy of style 1: 75% (4876/6473)\n",
      "\t\tValidation Accuracy of style 2: 72% (5509/7619)\n",
      "\t\tValidation Accuracy of style 3: 71% (5088/7156)\n",
      "\t\tTotal Accuracy: 72.82% (15473/21248)\n",
      "\t***** Validation loss decreased (1.013140 --> 1.012819).  Saving model ... *****\n"
     ]
    },
    {
     "name": "stderr",
     "output_type": "stream",
     "text": [
      "100%|██████████| 2994/2994 [00:17<00:00, 175.49it/s]\n",
      "100%|██████████| 332/332 [00:02<00:00, 159.73it/s]\n"
     ]
    },
    {
     "name": "stdout",
     "output_type": "stream",
     "text": [
      "Epoch: 23 \n",
      "\tTraining Loss: 0.992615 \n",
      "\tValidation Loss: 1.012050 [Minimum Validation Loss in the History: 1.012819]\n",
      "\t\tValidation Accuracy of style 1: 73% (4788/6473)\n",
      "\t\tValidation Accuracy of style 2: 70% (5404/7619)\n",
      "\t\tValidation Accuracy of style 3: 75% (5383/7156)\n",
      "\t\tTotal Accuracy: 73.30% (15575/21248)\n",
      "\t***** Validation loss decreased (1.012819 --> 1.012050).  Saving model ... *****\n"
     ]
    },
    {
     "name": "stderr",
     "output_type": "stream",
     "text": [
      "100%|██████████| 2994/2994 [00:17<00:00, 173.38it/s]\n",
      "100%|██████████| 332/332 [00:02<00:00, 158.70it/s]\n"
     ]
    },
    {
     "name": "stdout",
     "output_type": "stream",
     "text": [
      "Epoch: 24 \n",
      "\tTraining Loss: 0.989945 \n",
      "\tValidation Loss: 1.012789 [Minimum Validation Loss in the History: 1.012050]\n",
      "\t\tValidation Accuracy of style 1: 74% (4824/6473)\n",
      "\t\tValidation Accuracy of style 2: 71% (5454/7619)\n",
      "\t\tValidation Accuracy of style 3: 73% (5257/7156)\n",
      "\t\tTotal Accuracy: 73.11% (15535/21248)\n"
     ]
    },
    {
     "name": "stderr",
     "output_type": "stream",
     "text": [
      "100%|██████████| 2994/2994 [00:17<00:00, 173.01it/s]\n",
      "100%|██████████| 332/332 [00:02<00:00, 158.36it/s]\n"
     ]
    },
    {
     "name": "stdout",
     "output_type": "stream",
     "text": [
      "Epoch: 25 \n",
      "\tTraining Loss: 0.987918 \n",
      "\tValidation Loss: 1.015131 [Minimum Validation Loss in the History: 1.012050]\n",
      "\t\tValidation Accuracy of style 1: 75% (4872/6473)\n",
      "\t\tValidation Accuracy of style 2: 73% (5587/7619)\n",
      "\t\tValidation Accuracy of style 3: 68% (4921/7156)\n",
      "\t\tTotal Accuracy: 72.38% (15380/21248)\n"
     ]
    },
    {
     "name": "stderr",
     "output_type": "stream",
     "text": [
      "100%|██████████| 2994/2994 [00:17<00:00, 174.96it/s]\n",
      "100%|██████████| 332/332 [00:02<00:00, 157.93it/s]\n"
     ]
    },
    {
     "name": "stdout",
     "output_type": "stream",
     "text": [
      "Epoch: 26 \n",
      "\tTraining Loss: 0.985330 \n",
      "\tValidation Loss: 1.010871 [Minimum Validation Loss in the History: 1.012050]\n",
      "\t\tValidation Accuracy of style 1: 72% (4689/6473)\n",
      "\t\tValidation Accuracy of style 2: 73% (5610/7619)\n",
      "\t\tValidation Accuracy of style 3: 72% (5216/7156)\n",
      "\t\tTotal Accuracy: 73.02% (15515/21248)\n",
      "\t***** Validation loss decreased (1.012050 --> 1.010871).  Saving model ... *****\n"
     ]
    },
    {
     "name": "stderr",
     "output_type": "stream",
     "text": [
      "100%|██████████| 2994/2994 [00:17<00:00, 173.21it/s]\n",
      "100%|██████████| 332/332 [00:02<00:00, 159.23it/s]\n"
     ]
    },
    {
     "name": "stdout",
     "output_type": "stream",
     "text": [
      "Epoch: 27 \n",
      "\tTraining Loss: 0.982638 \n",
      "\tValidation Loss: 1.013735 [Minimum Validation Loss in the History: 1.010871]\n",
      "\t\tValidation Accuracy of style 1: 74% (4829/6473)\n",
      "\t\tValidation Accuracy of style 2: 69% (5327/7619)\n",
      "\t\tValidation Accuracy of style 3: 75% (5429/7156)\n",
      "\t\tTotal Accuracy: 73.35% (15585/21248)\n"
     ]
    },
    {
     "name": "stderr",
     "output_type": "stream",
     "text": [
      "100%|██████████| 2994/2994 [00:17<00:00, 175.17it/s]\n",
      "100%|██████████| 332/332 [00:02<00:00, 160.40it/s]\n"
     ]
    },
    {
     "name": "stdout",
     "output_type": "stream",
     "text": [
      "Epoch: 28 \n",
      "\tTraining Loss: 0.980410 \n",
      "\tValidation Loss: 1.015928 [Minimum Validation Loss in the History: 1.010871]\n",
      "\t\tValidation Accuracy of style 1: 77% (5030/6473)\n",
      "\t\tValidation Accuracy of style 2: 70% (5375/7619)\n",
      "\t\tValidation Accuracy of style 3: 70% (5058/7156)\n",
      "\t\tTotal Accuracy: 72.77% (15463/21248)\n"
     ]
    },
    {
     "name": "stderr",
     "output_type": "stream",
     "text": [
      "100%|██████████| 2994/2994 [00:17<00:00, 174.19it/s]\n",
      "100%|██████████| 332/332 [00:02<00:00, 157.13it/s]\n"
     ]
    },
    {
     "name": "stdout",
     "output_type": "stream",
     "text": [
      "Epoch: 29 \n",
      "\tTraining Loss: 0.977684 \n",
      "\tValidation Loss: 1.013267 [Minimum Validation Loss in the History: 1.010871]\n",
      "\t\tValidation Accuracy of style 1: 71% (4654/6473)\n",
      "\t\tValidation Accuracy of style 2: 72% (5540/7619)\n",
      "\t\tValidation Accuracy of style 3: 74% (5315/7156)\n",
      "\t\tTotal Accuracy: 72.99% (15509/21248)\n"
     ]
    },
    {
     "name": "stderr",
     "output_type": "stream",
     "text": [
      "100%|██████████| 2994/2994 [00:17<00:00, 174.09it/s]\n",
      "100%|██████████| 332/332 [00:02<00:00, 160.43it/s]\n"
     ]
    },
    {
     "name": "stdout",
     "output_type": "stream",
     "text": [
      "Epoch: 30 \n",
      "\tTraining Loss: 0.974935 \n",
      "\tValidation Loss: 1.014873 [Minimum Validation Loss in the History: 1.010871]\n",
      "\t\tValidation Accuracy of style 1: 77% (5020/6473)\n",
      "\t\tValidation Accuracy of style 2: 70% (5358/7619)\n",
      "\t\tValidation Accuracy of style 3: 71% (5106/7156)\n",
      "\t\tTotal Accuracy: 72.87% (15484/21248)\n"
     ]
    },
    {
     "name": "stderr",
     "output_type": "stream",
     "text": [
      "100%|██████████| 2994/2994 [00:17<00:00, 175.28it/s]\n",
      "100%|██████████| 332/332 [00:02<00:00, 157.51it/s]\n"
     ]
    },
    {
     "name": "stdout",
     "output_type": "stream",
     "text": [
      "Epoch: 31 \n",
      "\tTraining Loss: 0.972439 \n",
      "\tValidation Loss: 1.011249 [Minimum Validation Loss in the History: 1.010871]\n",
      "\t\tValidation Accuracy of style 1: 69% (4468/6473)\n",
      "\t\tValidation Accuracy of style 2: 74% (5706/7619)\n",
      "\t\tValidation Accuracy of style 3: 74% (5314/7156)\n",
      "\t\tTotal Accuracy: 72.89% (15488/21248)\n"
     ]
    },
    {
     "name": "stderr",
     "output_type": "stream",
     "text": [
      "100%|██████████| 2994/2994 [00:17<00:00, 174.55it/s]\n",
      "100%|██████████| 332/332 [00:02<00:00, 148.21it/s]\n"
     ]
    },
    {
     "name": "stdout",
     "output_type": "stream",
     "text": [
      "Epoch: 32 \n",
      "\tTraining Loss: 0.969678 \n",
      "\tValidation Loss: 1.013102 [Minimum Validation Loss in the History: 1.010871]\n",
      "\t\tValidation Accuracy of style 1: 76% (4920/6473)\n",
      "\t\tValidation Accuracy of style 2: 70% (5366/7619)\n",
      "\t\tValidation Accuracy of style 3: 73% (5242/7156)\n",
      "\t\tTotal Accuracy: 73.08% (15528/21248)\n"
     ]
    },
    {
     "name": "stderr",
     "output_type": "stream",
     "text": [
      "100%|██████████| 2994/2994 [00:17<00:00, 174.20it/s]\n",
      "100%|██████████| 332/332 [00:02<00:00, 158.50it/s]\n"
     ]
    },
    {
     "name": "stdout",
     "output_type": "stream",
     "text": [
      "Epoch: 33 \n",
      "\tTraining Loss: 0.967593 \n",
      "\tValidation Loss: 1.009985 [Minimum Validation Loss in the History: 1.010871]\n",
      "\t\tValidation Accuracy of style 1: 75% (4901/6473)\n",
      "\t\tValidation Accuracy of style 2: 71% (5428/7619)\n",
      "\t\tValidation Accuracy of style 3: 73% (5277/7156)\n",
      "\t\tTotal Accuracy: 73.45% (15606/21248)\n",
      "\t***** Validation loss decreased (1.010871 --> 1.009985).  Saving model ... *****\n"
     ]
    },
    {
     "name": "stderr",
     "output_type": "stream",
     "text": [
      "100%|██████████| 2994/2994 [00:17<00:00, 173.45it/s]\n",
      "100%|██████████| 332/332 [00:02<00:00, 159.49it/s]\n"
     ]
    },
    {
     "name": "stdout",
     "output_type": "stream",
     "text": [
      "Epoch: 34 \n",
      "\tTraining Loss: 0.964653 \n",
      "\tValidation Loss: 1.010582 [Minimum Validation Loss in the History: 1.009985]\n",
      "\t\tValidation Accuracy of style 1: 71% (4612/6473)\n",
      "\t\tValidation Accuracy of style 2: 74% (5673/7619)\n",
      "\t\tValidation Accuracy of style 3: 72% (5209/7156)\n",
      "\t\tTotal Accuracy: 72.92% (15494/21248)\n"
     ]
    },
    {
     "name": "stderr",
     "output_type": "stream",
     "text": [
      "100%|██████████| 2994/2994 [00:17<00:00, 174.27it/s]\n",
      "100%|██████████| 332/332 [00:02<00:00, 160.33it/s]\n"
     ]
    },
    {
     "name": "stdout",
     "output_type": "stream",
     "text": [
      "Epoch: 35 \n",
      "\tTraining Loss: 0.962629 \n",
      "\tValidation Loss: 1.014351 [Minimum Validation Loss in the History: 1.009985]\n",
      "\t\tValidation Accuracy of style 1: 78% (5059/6473)\n",
      "\t\tValidation Accuracy of style 2: 68% (5229/7619)\n",
      "\t\tValidation Accuracy of style 3: 74% (5297/7156)\n",
      "\t\tTotal Accuracy: 73.35% (15585/21248)\n"
     ]
    },
    {
     "name": "stderr",
     "output_type": "stream",
     "text": [
      "100%|██████████| 2994/2994 [00:17<00:00, 173.69it/s]\n",
      "100%|██████████| 332/332 [00:02<00:00, 157.09it/s]\n"
     ]
    },
    {
     "name": "stdout",
     "output_type": "stream",
     "text": [
      "Epoch: 36 \n",
      "\tTraining Loss: 0.960118 \n",
      "\tValidation Loss: 1.013536 [Minimum Validation Loss in the History: 1.009985]\n",
      "\t\tValidation Accuracy of style 1: 77% (5048/6473)\n",
      "\t\tValidation Accuracy of style 2: 70% (5336/7619)\n",
      "\t\tValidation Accuracy of style 3: 71% (5142/7156)\n",
      "\t\tTotal Accuracy: 73.07% (15526/21248)\n"
     ]
    },
    {
     "name": "stderr",
     "output_type": "stream",
     "text": [
      "100%|██████████| 2994/2994 [00:17<00:00, 175.88it/s]\n",
      "100%|██████████| 332/332 [00:02<00:00, 151.14it/s]\n"
     ]
    },
    {
     "name": "stdout",
     "output_type": "stream",
     "text": [
      "Epoch: 37 \n",
      "\tTraining Loss: 0.958891 \n",
      "\tValidation Loss: 1.012966 [Minimum Validation Loss in the History: 1.009985]\n",
      "\t\tValidation Accuracy of style 1: 69% (4502/6473)\n",
      "\t\tValidation Accuracy of style 2: 74% (5670/7619)\n",
      "\t\tValidation Accuracy of style 3: 73% (5275/7156)\n",
      "\t\tTotal Accuracy: 72.70% (15447/21248)\n"
     ]
    },
    {
     "name": "stderr",
     "output_type": "stream",
     "text": [
      "100%|██████████| 2994/2994 [00:17<00:00, 175.73it/s]\n",
      "100%|██████████| 332/332 [00:02<00:00, 158.20it/s]\n"
     ]
    },
    {
     "name": "stdout",
     "output_type": "stream",
     "text": [
      "Epoch: 38 \n",
      "\tTraining Loss: 0.955549 \n",
      "\tValidation Loss: 1.011612 [Minimum Validation Loss in the History: 1.009985]\n",
      "\t\tValidation Accuracy of style 1: 76% (4959/6473)\n",
      "\t\tValidation Accuracy of style 2: 71% (5415/7619)\n",
      "\t\tValidation Accuracy of style 3: 72% (5181/7156)\n",
      "\t\tTotal Accuracy: 73.21% (15555/21248)\n"
     ]
    },
    {
     "name": "stderr",
     "output_type": "stream",
     "text": [
      "100%|██████████| 2994/2994 [00:17<00:00, 173.23it/s]\n",
      "100%|██████████| 332/332 [00:02<00:00, 159.85it/s]\n"
     ]
    },
    {
     "name": "stdout",
     "output_type": "stream",
     "text": [
      "Epoch: 39 \n",
      "\tTraining Loss: 0.953668 \n",
      "\tValidation Loss: 1.011145 [Minimum Validation Loss in the History: 1.009985]\n",
      "\t\tValidation Accuracy of style 1: 76% (4969/6473)\n",
      "\t\tValidation Accuracy of style 2: 71% (5460/7619)\n",
      "\t\tValidation Accuracy of style 3: 71% (5135/7156)\n",
      "\t\tTotal Accuracy: 73.25% (15564/21248)\n"
     ]
    },
    {
     "name": "stderr",
     "output_type": "stream",
     "text": [
      "100%|██████████| 2994/2994 [00:17<00:00, 172.90it/s]\n",
      "100%|██████████| 332/332 [00:02<00:00, 157.89it/s]\n"
     ]
    },
    {
     "name": "stdout",
     "output_type": "stream",
     "text": [
      "Epoch: 40 \n",
      "\tTraining Loss: 0.950995 \n",
      "\tValidation Loss: 1.010894 [Minimum Validation Loss in the History: 1.009985]\n",
      "\t\tValidation Accuracy of style 1: 72% (4676/6473)\n",
      "\t\tValidation Accuracy of style 2: 73% (5593/7619)\n",
      "\t\tValidation Accuracy of style 3: 73% (5249/7156)\n",
      "\t\tTotal Accuracy: 73.03% (15518/21248)\n"
     ]
    },
    {
     "name": "stderr",
     "output_type": "stream",
     "text": [
      "100%|██████████| 2994/2994 [00:17<00:00, 173.72it/s]\n",
      "100%|██████████| 332/332 [00:02<00:00, 160.02it/s]\n"
     ]
    },
    {
     "name": "stdout",
     "output_type": "stream",
     "text": [
      "Epoch: 41 \n",
      "\tTraining Loss: 0.948730 \n",
      "\tValidation Loss: 1.010209 [Minimum Validation Loss in the History: 1.009985]\n",
      "\t\tValidation Accuracy of style 1: 72% (4665/6473)\n",
      "\t\tValidation Accuracy of style 2: 73% (5598/7619)\n",
      "\t\tValidation Accuracy of style 3: 74% (5301/7156)\n",
      "\t\tTotal Accuracy: 73.25% (15564/21248)\n"
     ]
    },
    {
     "name": "stderr",
     "output_type": "stream",
     "text": [
      "100%|██████████| 2994/2994 [00:17<00:00, 174.49it/s]\n",
      "100%|██████████| 332/332 [00:02<00:00, 149.90it/s]\n"
     ]
    },
    {
     "name": "stdout",
     "output_type": "stream",
     "text": [
      "Epoch: 42 \n",
      "\tTraining Loss: 0.947962 \n",
      "\tValidation Loss: 1.014821 [Minimum Validation Loss in the History: 1.009985]\n",
      "\t\tValidation Accuracy of style 1: 71% (4637/6473)\n",
      "\t\tValidation Accuracy of style 2: 71% (5481/7619)\n",
      "\t\tValidation Accuracy of style 3: 74% (5363/7156)\n",
      "\t\tTotal Accuracy: 72.86% (15481/21248)\n"
     ]
    },
    {
     "name": "stderr",
     "output_type": "stream",
     "text": [
      "100%|██████████| 2994/2994 [00:16<00:00, 176.35it/s]\n",
      "100%|██████████| 332/332 [00:02<00:00, 156.89it/s]\n"
     ]
    },
    {
     "name": "stdout",
     "output_type": "stream",
     "text": [
      "Epoch: 43 \n",
      "\tTraining Loss: 0.945621 \n",
      "\tValidation Loss: 1.010723 [Minimum Validation Loss in the History: 1.009985]\n",
      "\t\tValidation Accuracy of style 1: 72% (4721/6473)\n",
      "\t\tValidation Accuracy of style 2: 73% (5580/7619)\n",
      "\t\tValidation Accuracy of style 3: 73% (5237/7156)\n",
      "\t\tTotal Accuracy: 73.13% (15538/21248)\n"
     ]
    },
    {
     "name": "stderr",
     "output_type": "stream",
     "text": [
      "100%|██████████| 2994/2994 [00:17<00:00, 173.75it/s]\n",
      "100%|██████████| 332/332 [00:02<00:00, 157.27it/s]\n"
     ]
    },
    {
     "name": "stdout",
     "output_type": "stream",
     "text": [
      "Epoch: 44 \n",
      "\tTraining Loss: 0.943583 \n",
      "\tValidation Loss: 1.009372 [Minimum Validation Loss in the History: 1.009985]\n",
      "\t\tValidation Accuracy of style 1: 73% (4777/6473)\n",
      "\t\tValidation Accuracy of style 2: 72% (5529/7619)\n",
      "\t\tValidation Accuracy of style 3: 73% (5284/7156)\n",
      "\t\tTotal Accuracy: 73.37% (15590/21248)\n",
      "\t***** Validation loss decreased (1.009985 --> 1.009372).  Saving model ... *****\n"
     ]
    },
    {
     "name": "stderr",
     "output_type": "stream",
     "text": [
      "100%|██████████| 2994/2994 [00:17<00:00, 174.33it/s]\n",
      "100%|██████████| 332/332 [00:02<00:00, 157.19it/s]\n"
     ]
    },
    {
     "name": "stdout",
     "output_type": "stream",
     "text": [
      "Epoch: 45 \n",
      "\tTraining Loss: 0.941857 \n",
      "\tValidation Loss: 1.013440 [Minimum Validation Loss in the History: 1.009372]\n",
      "\t\tValidation Accuracy of style 1: 75% (4897/6473)\n",
      "\t\tValidation Accuracy of style 2: 72% (5534/7619)\n",
      "\t\tValidation Accuracy of style 3: 70% (5035/7156)\n",
      "\t\tTotal Accuracy: 72.79% (15466/21248)\n"
     ]
    },
    {
     "name": "stderr",
     "output_type": "stream",
     "text": [
      "100%|██████████| 2994/2994 [00:17<00:00, 173.30it/s]\n",
      "100%|██████████| 332/332 [00:02<00:00, 158.25it/s]\n"
     ]
    },
    {
     "name": "stdout",
     "output_type": "stream",
     "text": [
      "Epoch: 46 \n",
      "\tTraining Loss: 0.940063 \n",
      "\tValidation Loss: 1.013094 [Minimum Validation Loss in the History: 1.009372]\n",
      "\t\tValidation Accuracy of style 1: 70% (4572/6473)\n",
      "\t\tValidation Accuracy of style 2: 73% (5563/7619)\n",
      "\t\tValidation Accuracy of style 3: 74% (5362/7156)\n",
      "\t\tTotal Accuracy: 72.93% (15497/21248)\n"
     ]
    },
    {
     "name": "stderr",
     "output_type": "stream",
     "text": [
      "100%|██████████| 2994/2994 [00:17<00:00, 175.04it/s]\n",
      "100%|██████████| 332/332 [00:02<00:00, 159.24it/s]\n"
     ]
    },
    {
     "name": "stdout",
     "output_type": "stream",
     "text": [
      "Epoch: 47 \n",
      "\tTraining Loss: 0.938723 \n",
      "\tValidation Loss: 1.013470 [Minimum Validation Loss in the History: 1.009372]\n",
      "\t\tValidation Accuracy of style 1: 76% (4981/6473)\n",
      "\t\tValidation Accuracy of style 2: 71% (5468/7619)\n",
      "\t\tValidation Accuracy of style 3: 70% (5041/7156)\n",
      "\t\tTotal Accuracy: 72.90% (15490/21248)\n"
     ]
    },
    {
     "name": "stderr",
     "output_type": "stream",
     "text": [
      "100%|██████████| 2994/2994 [00:17<00:00, 173.72it/s]\n",
      "100%|██████████| 332/332 [00:02<00:00, 160.60it/s]\n"
     ]
    },
    {
     "name": "stdout",
     "output_type": "stream",
     "text": [
      "Epoch: 48 \n",
      "\tTraining Loss: 0.936974 \n",
      "\tValidation Loss: 1.011389 [Minimum Validation Loss in the History: 1.009372]\n",
      "\t\tValidation Accuracy of style 1: 73% (4757/6473)\n",
      "\t\tValidation Accuracy of style 2: 73% (5575/7619)\n",
      "\t\tValidation Accuracy of style 3: 72% (5187/7156)\n",
      "\t\tTotal Accuracy: 73.04% (15519/21248)\n"
     ]
    },
    {
     "name": "stderr",
     "output_type": "stream",
     "text": [
      "100%|██████████| 2994/2994 [00:17<00:00, 175.15it/s]\n",
      "100%|██████████| 332/332 [00:02<00:00, 160.78it/s]\n"
     ]
    },
    {
     "name": "stdout",
     "output_type": "stream",
     "text": [
      "Epoch: 49 \n",
      "\tTraining Loss: 0.935043 \n",
      "\tValidation Loss: 1.009591 [Minimum Validation Loss in the History: 1.009372]\n",
      "\t\tValidation Accuracy of style 1: 74% (4799/6473)\n",
      "\t\tValidation Accuracy of style 2: 73% (5565/7619)\n",
      "\t\tValidation Accuracy of style 3: 72% (5208/7156)\n",
      "\t\tTotal Accuracy: 73.29% (15572/21248)\n"
     ]
    },
    {
     "name": "stderr",
     "output_type": "stream",
     "text": [
      "100%|██████████| 2994/2994 [00:17<00:00, 174.69it/s]\n",
      "100%|██████████| 332/332 [00:02<00:00, 160.59it/s]\n"
     ]
    },
    {
     "name": "stdout",
     "output_type": "stream",
     "text": [
      "Epoch: 50 \n",
      "\tTraining Loss: 0.934204 \n",
      "\tValidation Loss: 1.010165 [Minimum Validation Loss in the History: 1.009372]\n",
      "\t\tValidation Accuracy of style 1: 72% (4670/6473)\n",
      "\t\tValidation Accuracy of style 2: 73% (5619/7619)\n",
      "\t\tValidation Accuracy of style 3: 73% (5259/7156)\n",
      "\t\tTotal Accuracy: 73.17% (15548/21248)\n"
     ]
    },
    {
     "name": "stderr",
     "output_type": "stream",
     "text": [
      "100%|██████████| 2994/2994 [00:17<00:00, 173.44it/s]\n",
      "100%|██████████| 332/332 [00:02<00:00, 159.46it/s]\n"
     ]
    },
    {
     "name": "stdout",
     "output_type": "stream",
     "text": [
      "Epoch: 51 \n",
      "\tTraining Loss: 0.931880 \n",
      "\tValidation Loss: 1.012712 [Minimum Validation Loss in the History: 1.009372]\n",
      "\t\tValidation Accuracy of style 1: 74% (4828/6473)\n",
      "\t\tValidation Accuracy of style 2: 72% (5504/7619)\n",
      "\t\tValidation Accuracy of style 3: 72% (5166/7156)\n",
      "\t\tTotal Accuracy: 72.94% (15498/21248)\n"
     ]
    },
    {
     "name": "stderr",
     "output_type": "stream",
     "text": [
      "100%|██████████| 2994/2994 [00:17<00:00, 176.05it/s]\n",
      "100%|██████████| 332/332 [00:02<00:00, 160.22it/s]\n"
     ]
    },
    {
     "name": "stdout",
     "output_type": "stream",
     "text": [
      "Epoch: 52 \n",
      "\tTraining Loss: 0.930952 \n",
      "\tValidation Loss: 1.011372 [Minimum Validation Loss in the History: 1.009372]\n",
      "\t\tValidation Accuracy of style 1: 76% (4948/6473)\n",
      "\t\tValidation Accuracy of style 2: 71% (5441/7619)\n",
      "\t\tValidation Accuracy of style 3: 72% (5174/7156)\n",
      "\t\tTotal Accuracy: 73.24% (15563/21248)\n"
     ]
    },
    {
     "name": "stderr",
     "output_type": "stream",
     "text": [
      "100%|██████████| 2994/2994 [00:17<00:00, 173.59it/s]\n",
      "100%|██████████| 332/332 [00:02<00:00, 159.49it/s]\n"
     ]
    },
    {
     "name": "stdout",
     "output_type": "stream",
     "text": [
      "Epoch: 53 \n",
      "\tTraining Loss: 0.929338 \n",
      "\tValidation Loss: 1.015647 [Minimum Validation Loss in the History: 1.009372]\n",
      "\t\tValidation Accuracy of style 1: 77% (5016/6473)\n",
      "\t\tValidation Accuracy of style 2: 71% (5425/7619)\n",
      "\t\tValidation Accuracy of style 3: 70% (5028/7156)\n",
      "\t\tTotal Accuracy: 72.80% (15469/21248)\n"
     ]
    },
    {
     "name": "stderr",
     "output_type": "stream",
     "text": [
      "100%|██████████| 2994/2994 [00:17<00:00, 173.09it/s]\n",
      "100%|██████████| 332/332 [00:02<00:00, 159.15it/s]\n"
     ]
    },
    {
     "name": "stdout",
     "output_type": "stream",
     "text": [
      "Epoch: 54 \n",
      "\tTraining Loss: 0.928582 \n",
      "\tValidation Loss: 1.010117 [Minimum Validation Loss in the History: 1.009372]\n",
      "\t\tValidation Accuracy of style 1: 74% (4827/6473)\n",
      "\t\tValidation Accuracy of style 2: 73% (5582/7619)\n",
      "\t\tValidation Accuracy of style 3: 71% (5146/7156)\n",
      "\t\tTotal Accuracy: 73.21% (15555/21248)\n"
     ]
    },
    {
     "name": "stderr",
     "output_type": "stream",
     "text": [
      "100%|██████████| 2994/2994 [00:17<00:00, 174.86it/s]\n",
      "100%|██████████| 332/332 [00:02<00:00, 159.73it/s]\n"
     ]
    },
    {
     "name": "stdout",
     "output_type": "stream",
     "text": [
      "Epoch: 55 \n",
      "\tTraining Loss: 0.926680 \n",
      "\tValidation Loss: 1.010764 [Minimum Validation Loss in the History: 1.009372]\n",
      "\t\tValidation Accuracy of style 1: 74% (4816/6473)\n",
      "\t\tValidation Accuracy of style 2: 72% (5535/7619)\n",
      "\t\tValidation Accuracy of style 3: 72% (5219/7156)\n",
      "\t\tTotal Accuracy: 73.28% (15570/21248)\n"
     ]
    },
    {
     "name": "stderr",
     "output_type": "stream",
     "text": [
      "100%|██████████| 2994/2994 [00:17<00:00, 173.52it/s]\n",
      "100%|██████████| 332/332 [00:02<00:00, 157.29it/s]\n"
     ]
    },
    {
     "name": "stdout",
     "output_type": "stream",
     "text": [
      "Epoch: 56 \n",
      "\tTraining Loss: 0.924663 \n",
      "\tValidation Loss: 1.010439 [Minimum Validation Loss in the History: 1.009372]\n",
      "\t\tValidation Accuracy of style 1: 76% (4925/6473)\n",
      "\t\tValidation Accuracy of style 2: 72% (5528/7619)\n",
      "\t\tValidation Accuracy of style 3: 71% (5089/7156)\n",
      "\t\tTotal Accuracy: 73.15% (15542/21248)\n"
     ]
    },
    {
     "name": "stderr",
     "output_type": "stream",
     "text": [
      "100%|██████████| 2994/2994 [00:17<00:00, 175.69it/s]\n",
      "100%|██████████| 332/332 [00:02<00:00, 160.14it/s]\n"
     ]
    },
    {
     "name": "stdout",
     "output_type": "stream",
     "text": [
      "Epoch: 57 \n",
      "\tTraining Loss: 0.923936 \n",
      "\tValidation Loss: 1.012350 [Minimum Validation Loss in the History: 1.009372]\n",
      "\t\tValidation Accuracy of style 1: 75% (4880/6473)\n",
      "\t\tValidation Accuracy of style 2: 72% (5513/7619)\n",
      "\t\tValidation Accuracy of style 3: 71% (5122/7156)\n",
      "\t\tTotal Accuracy: 73.02% (15515/21248)\n"
     ]
    },
    {
     "name": "stderr",
     "output_type": "stream",
     "text": [
      "100%|██████████| 2994/2994 [00:17<00:00, 175.36it/s]\n",
      "100%|██████████| 332/332 [00:02<00:00, 158.38it/s]\n"
     ]
    },
    {
     "name": "stdout",
     "output_type": "stream",
     "text": [
      "Epoch: 58 \n",
      "\tTraining Loss: 0.922837 \n",
      "\tValidation Loss: 1.010602 [Minimum Validation Loss in the History: 1.009372]\n",
      "\t\tValidation Accuracy of style 1: 74% (4796/6473)\n",
      "\t\tValidation Accuracy of style 2: 72% (5522/7619)\n",
      "\t\tValidation Accuracy of style 3: 73% (5256/7156)\n",
      "\t\tTotal Accuracy: 73.30% (15574/21248)\n"
     ]
    },
    {
     "name": "stderr",
     "output_type": "stream",
     "text": [
      "100%|██████████| 2994/2994 [00:17<00:00, 175.20it/s]\n",
      "100%|██████████| 332/332 [00:02<00:00, 147.23it/s]\n"
     ]
    },
    {
     "name": "stdout",
     "output_type": "stream",
     "text": [
      "Epoch: 59 \n",
      "\tTraining Loss: 0.921613 \n",
      "\tValidation Loss: 1.011096 [Minimum Validation Loss in the History: 1.009372]\n",
      "\t\tValidation Accuracy of style 1: 73% (4763/6473)\n",
      "\t\tValidation Accuracy of style 2: 73% (5563/7619)\n",
      "\t\tValidation Accuracy of style 3: 73% (5233/7156)\n",
      "\t\tTotal Accuracy: 73.23% (15559/21248)\n"
     ]
    },
    {
     "name": "stderr",
     "output_type": "stream",
     "text": [
      "100%|██████████| 2994/2994 [00:17<00:00, 175.06it/s]\n",
      "100%|██████████| 332/332 [00:02<00:00, 157.94it/s]\n"
     ]
    },
    {
     "name": "stdout",
     "output_type": "stream",
     "text": [
      "Epoch: 60 \n",
      "\tTraining Loss: 0.920466 \n",
      "\tValidation Loss: 1.011359 [Minimum Validation Loss in the History: 1.009372]\n",
      "\t\tValidation Accuracy of style 1: 74% (4853/6473)\n",
      "\t\tValidation Accuracy of style 2: 72% (5537/7619)\n",
      "\t\tValidation Accuracy of style 3: 71% (5141/7156)\n",
      "\t\tTotal Accuracy: 73.09% (15531/21248)\n"
     ]
    },
    {
     "name": "stderr",
     "output_type": "stream",
     "text": [
      "100%|██████████| 2994/2994 [00:17<00:00, 174.65it/s]\n",
      "100%|██████████| 332/332 [00:02<00:00, 158.10it/s]\n"
     ]
    },
    {
     "name": "stdout",
     "output_type": "stream",
     "text": [
      "Epoch: 61 \n",
      "\tTraining Loss: 0.918771 \n",
      "\tValidation Loss: 1.008742 [Minimum Validation Loss in the History: 1.009372]\n",
      "\t\tValidation Accuracy of style 1: 73% (4734/6473)\n",
      "\t\tValidation Accuracy of style 2: 73% (5627/7619)\n",
      "\t\tValidation Accuracy of style 3: 73% (5226/7156)\n",
      "\t\tTotal Accuracy: 73.36% (15587/21248)\n",
      "\t***** Validation loss decreased (1.009372 --> 1.008742).  Saving model ... *****\n"
     ]
    },
    {
     "name": "stderr",
     "output_type": "stream",
     "text": [
      "100%|██████████| 2994/2994 [00:17<00:00, 175.45it/s]\n",
      "100%|██████████| 332/332 [00:02<00:00, 158.94it/s]\n"
     ]
    },
    {
     "name": "stdout",
     "output_type": "stream",
     "text": [
      "Epoch: 62 \n",
      "\tTraining Loss: 0.918080 \n",
      "\tValidation Loss: 1.009564 [Minimum Validation Loss in the History: 1.008742]\n",
      "\t\tValidation Accuracy of style 1: 71% (4615/6473)\n",
      "\t\tValidation Accuracy of style 2: 74% (5656/7619)\n",
      "\t\tValidation Accuracy of style 3: 74% (5299/7156)\n",
      "\t\tTotal Accuracy: 73.28% (15570/21248)\n"
     ]
    },
    {
     "name": "stderr",
     "output_type": "stream",
     "text": [
      "100%|██████████| 2994/2994 [00:17<00:00, 173.60it/s]\n",
      "100%|██████████| 332/332 [00:02<00:00, 158.03it/s]\n"
     ]
    },
    {
     "name": "stdout",
     "output_type": "stream",
     "text": [
      "Epoch: 63 \n",
      "\tTraining Loss: 0.916836 \n",
      "\tValidation Loss: 1.010656 [Minimum Validation Loss in the History: 1.008742]\n",
      "\t\tValidation Accuracy of style 1: 76% (4954/6473)\n",
      "\t\tValidation Accuracy of style 2: 72% (5504/7619)\n",
      "\t\tValidation Accuracy of style 3: 71% (5103/7156)\n",
      "\t\tTotal Accuracy: 73.24% (15561/21248)\n"
     ]
    },
    {
     "name": "stderr",
     "output_type": "stream",
     "text": [
      "100%|██████████| 2994/2994 [00:17<00:00, 172.88it/s]\n",
      "100%|██████████| 332/332 [00:02<00:00, 160.70it/s]\n"
     ]
    },
    {
     "name": "stdout",
     "output_type": "stream",
     "text": [
      "Epoch: 64 \n",
      "\tTraining Loss: 0.915980 \n",
      "\tValidation Loss: 1.010894 [Minimum Validation Loss in the History: 1.008742]\n",
      "\t\tValidation Accuracy of style 1: 75% (4896/6473)\n",
      "\t\tValidation Accuracy of style 2: 72% (5537/7619)\n",
      "\t\tValidation Accuracy of style 3: 71% (5122/7156)\n",
      "\t\tTotal Accuracy: 73.21% (15555/21248)\n"
     ]
    },
    {
     "name": "stderr",
     "output_type": "stream",
     "text": [
      "100%|██████████| 2994/2994 [00:17<00:00, 173.91it/s]\n",
      "100%|██████████| 332/332 [00:02<00:00, 157.03it/s]\n"
     ]
    },
    {
     "name": "stdout",
     "output_type": "stream",
     "text": [
      "Epoch: 65 \n",
      "\tTraining Loss: 0.915051 \n",
      "\tValidation Loss: 1.008319 [Minimum Validation Loss in the History: 1.008742]\n",
      "\t\tValidation Accuracy of style 1: 75% (4865/6473)\n",
      "\t\tValidation Accuracy of style 2: 73% (5568/7619)\n",
      "\t\tValidation Accuracy of style 3: 72% (5184/7156)\n",
      "\t\tTotal Accuracy: 73.50% (15617/21248)\n",
      "\t***** Validation loss decreased (1.008742 --> 1.008319).  Saving model ... *****\n"
     ]
    },
    {
     "name": "stderr",
     "output_type": "stream",
     "text": [
      "100%|██████████| 2994/2994 [00:17<00:00, 174.92it/s]\n",
      "100%|██████████| 332/332 [00:02<00:00, 156.27it/s]\n"
     ]
    },
    {
     "name": "stdout",
     "output_type": "stream",
     "text": [
      "Epoch: 66 \n",
      "\tTraining Loss: 0.913687 \n",
      "\tValidation Loss: 1.010070 [Minimum Validation Loss in the History: 1.008319]\n",
      "\t\tValidation Accuracy of style 1: 74% (4854/6473)\n",
      "\t\tValidation Accuracy of style 2: 72% (5537/7619)\n",
      "\t\tValidation Accuracy of style 3: 72% (5197/7156)\n",
      "\t\tTotal Accuracy: 73.36% (15588/21248)\n"
     ]
    },
    {
     "name": "stderr",
     "output_type": "stream",
     "text": [
      "100%|██████████| 2994/2994 [00:16<00:00, 176.31it/s]\n",
      "100%|██████████| 332/332 [00:02<00:00, 159.38it/s]\n"
     ]
    },
    {
     "name": "stdout",
     "output_type": "stream",
     "text": [
      "Epoch: 67 \n",
      "\tTraining Loss: 0.912969 \n",
      "\tValidation Loss: 1.009396 [Minimum Validation Loss in the History: 1.008319]\n",
      "\t\tValidation Accuracy of style 1: 73% (4735/6473)\n",
      "\t\tValidation Accuracy of style 2: 73% (5629/7619)\n",
      "\t\tValidation Accuracy of style 3: 73% (5230/7156)\n",
      "\t\tTotal Accuracy: 73.39% (15594/21248)\n"
     ]
    },
    {
     "name": "stderr",
     "output_type": "stream",
     "text": [
      "100%|██████████| 2994/2994 [00:17<00:00, 174.16it/s]\n",
      "100%|██████████| 332/332 [00:02<00:00, 157.94it/s]\n"
     ]
    },
    {
     "name": "stdout",
     "output_type": "stream",
     "text": [
      "Epoch: 68 \n",
      "\tTraining Loss: 0.912494 \n",
      "\tValidation Loss: 1.016040 [Minimum Validation Loss in the History: 1.008319]\n",
      "\t\tValidation Accuracy of style 1: 78% (5097/6473)\n",
      "\t\tValidation Accuracy of style 2: 70% (5371/7619)\n",
      "\t\tValidation Accuracy of style 3: 70% (5011/7156)\n",
      "\t\tTotal Accuracy: 72.85% (15479/21248)\n"
     ]
    },
    {
     "name": "stderr",
     "output_type": "stream",
     "text": [
      "100%|██████████| 2994/2994 [00:17<00:00, 173.20it/s]\n",
      "100%|██████████| 332/332 [00:02<00:00, 157.26it/s]\n"
     ]
    },
    {
     "name": "stdout",
     "output_type": "stream",
     "text": [
      "Epoch: 69 \n",
      "\tTraining Loss: 0.911071 \n",
      "\tValidation Loss: 1.012495 [Minimum Validation Loss in the History: 1.008319]\n",
      "\t\tValidation Accuracy of style 1: 75% (4900/6473)\n",
      "\t\tValidation Accuracy of style 2: 72% (5499/7619)\n",
      "\t\tValidation Accuracy of style 3: 71% (5112/7156)\n",
      "\t\tTotal Accuracy: 73.00% (15511/21248)\n"
     ]
    },
    {
     "name": "stderr",
     "output_type": "stream",
     "text": [
      "100%|██████████| 2994/2994 [00:17<00:00, 174.53it/s]\n",
      "100%|██████████| 332/332 [00:02<00:00, 158.36it/s]\n"
     ]
    },
    {
     "name": "stdout",
     "output_type": "stream",
     "text": [
      "Epoch: 70 \n",
      "\tTraining Loss: 0.909921 \n",
      "\tValidation Loss: 1.011484 [Minimum Validation Loss in the History: 1.008319]\n",
      "\t\tValidation Accuracy of style 1: 76% (4940/6473)\n",
      "\t\tValidation Accuracy of style 2: 72% (5495/7619)\n",
      "\t\tValidation Accuracy of style 3: 71% (5112/7156)\n",
      "\t\tTotal Accuracy: 73.17% (15547/21248)\n"
     ]
    },
    {
     "name": "stderr",
     "output_type": "stream",
     "text": [
      "100%|██████████| 2994/2994 [00:17<00:00, 174.54it/s]\n",
      "100%|██████████| 332/332 [00:02<00:00, 160.19it/s]\n"
     ]
    },
    {
     "name": "stdout",
     "output_type": "stream",
     "text": [
      "Epoch: 71 \n",
      "\tTraining Loss: 0.909116 \n",
      "\tValidation Loss: 1.011347 [Minimum Validation Loss in the History: 1.008319]\n",
      "\t\tValidation Accuracy of style 1: 75% (4904/6473)\n",
      "\t\tValidation Accuracy of style 2: 72% (5504/7619)\n",
      "\t\tValidation Accuracy of style 3: 71% (5151/7156)\n",
      "\t\tTotal Accuracy: 73.23% (15559/21248)\n"
     ]
    },
    {
     "name": "stderr",
     "output_type": "stream",
     "text": [
      "100%|██████████| 2994/2994 [00:17<00:00, 173.23it/s]\n",
      "100%|██████████| 332/332 [00:02<00:00, 156.67it/s]\n"
     ]
    },
    {
     "name": "stdout",
     "output_type": "stream",
     "text": [
      "Epoch: 72 \n",
      "\tTraining Loss: 0.908652 \n",
      "\tValidation Loss: 1.011605 [Minimum Validation Loss in the History: 1.008319]\n",
      "\t\tValidation Accuracy of style 1: 75% (4858/6473)\n",
      "\t\tValidation Accuracy of style 2: 72% (5544/7619)\n",
      "\t\tValidation Accuracy of style 3: 71% (5138/7156)\n",
      "\t\tTotal Accuracy: 73.14% (15540/21248)\n"
     ]
    },
    {
     "name": "stderr",
     "output_type": "stream",
     "text": [
      "100%|██████████| 2994/2994 [00:17<00:00, 174.82it/s]\n",
      "100%|██████████| 332/332 [00:02<00:00, 157.16it/s]\n"
     ]
    },
    {
     "name": "stdout",
     "output_type": "stream",
     "text": [
      "Epoch: 73 \n",
      "\tTraining Loss: 0.907554 \n",
      "\tValidation Loss: 1.014665 [Minimum Validation Loss in the History: 1.008319]\n",
      "\t\tValidation Accuracy of style 1: 75% (4895/6473)\n",
      "\t\tValidation Accuracy of style 2: 72% (5487/7619)\n",
      "\t\tValidation Accuracy of style 3: 71% (5115/7156)\n",
      "\t\tTotal Accuracy: 72.93% (15497/21248)\n"
     ]
    },
    {
     "name": "stderr",
     "output_type": "stream",
     "text": [
      "100%|██████████| 2994/2994 [00:17<00:00, 174.68it/s]\n",
      "100%|██████████| 332/332 [00:02<00:00, 155.62it/s]\n"
     ]
    },
    {
     "name": "stdout",
     "output_type": "stream",
     "text": [
      "Epoch: 74 \n",
      "\tTraining Loss: 0.906525 \n",
      "\tValidation Loss: 1.011868 [Minimum Validation Loss in the History: 1.008319]\n",
      "\t\tValidation Accuracy of style 1: 75% (4892/6473)\n",
      "\t\tValidation Accuracy of style 2: 72% (5524/7619)\n",
      "\t\tValidation Accuracy of style 3: 71% (5122/7156)\n",
      "\t\tTotal Accuracy: 73.13% (15538/21248)\n"
     ]
    },
    {
     "name": "stderr",
     "output_type": "stream",
     "text": [
      "100%|██████████| 2994/2994 [00:17<00:00, 174.66it/s]\n",
      "100%|██████████| 332/332 [00:02<00:00, 156.20it/s]\n"
     ]
    },
    {
     "name": "stdout",
     "output_type": "stream",
     "text": [
      "Epoch: 75 \n",
      "\tTraining Loss: 0.905822 \n",
      "\tValidation Loss: 1.011901 [Minimum Validation Loss in the History: 1.008319]\n",
      "\t\tValidation Accuracy of style 1: 75% (4863/6473)\n",
      "\t\tValidation Accuracy of style 2: 72% (5516/7619)\n",
      "\t\tValidation Accuracy of style 3: 72% (5172/7156)\n",
      "\t\tTotal Accuracy: 73.19% (15551/21248)\n"
     ]
    },
    {
     "name": "stderr",
     "output_type": "stream",
     "text": [
      "100%|██████████| 2994/2994 [00:16<00:00, 176.24it/s]\n",
      "100%|██████████| 332/332 [00:02<00:00, 157.03it/s]\n"
     ]
    },
    {
     "name": "stdout",
     "output_type": "stream",
     "text": [
      "Epoch: 76 \n",
      "\tTraining Loss: 0.905123 \n",
      "\tValidation Loss: 1.012313 [Minimum Validation Loss in the History: 1.008319]\n",
      "\t\tValidation Accuracy of style 1: 72% (4662/6473)\n",
      "\t\tValidation Accuracy of style 2: 73% (5617/7619)\n",
      "\t\tValidation Accuracy of style 3: 73% (5243/7156)\n",
      "\t\tTotal Accuracy: 73.05% (15522/21248)\n"
     ]
    },
    {
     "name": "stderr",
     "output_type": "stream",
     "text": [
      "100%|██████████| 2994/2994 [00:17<00:00, 174.12it/s]\n",
      "100%|██████████| 332/332 [00:02<00:00, 157.54it/s]\n"
     ]
    },
    {
     "name": "stdout",
     "output_type": "stream",
     "text": [
      "Epoch: 77 \n",
      "\tTraining Loss: 0.903681 \n",
      "\tValidation Loss: 1.011594 [Minimum Validation Loss in the History: 1.008319]\n",
      "\t\tValidation Accuracy of style 1: 75% (4859/6473)\n",
      "\t\tValidation Accuracy of style 2: 73% (5563/7619)\n",
      "\t\tValidation Accuracy of style 3: 71% (5130/7156)\n",
      "\t\tTotal Accuracy: 73.19% (15552/21248)\n"
     ]
    },
    {
     "name": "stderr",
     "output_type": "stream",
     "text": [
      "100%|██████████| 2994/2994 [00:17<00:00, 175.01it/s]\n",
      "100%|██████████| 332/332 [00:02<00:00, 158.58it/s]\n"
     ]
    },
    {
     "name": "stdout",
     "output_type": "stream",
     "text": [
      "Epoch: 78 \n",
      "\tTraining Loss: 0.903397 \n",
      "\tValidation Loss: 1.010596 [Minimum Validation Loss in the History: 1.008319]\n",
      "\t\tValidation Accuracy of style 1: 73% (4752/6473)\n",
      "\t\tValidation Accuracy of style 2: 72% (5554/7619)\n",
      "\t\tValidation Accuracy of style 3: 73% (5280/7156)\n",
      "\t\tTotal Accuracy: 73.35% (15586/21248)\n"
     ]
    },
    {
     "name": "stderr",
     "output_type": "stream",
     "text": [
      "100%|██████████| 2994/2994 [00:17<00:00, 173.63it/s]\n",
      "100%|██████████| 332/332 [00:02<00:00, 154.92it/s]\n"
     ]
    },
    {
     "name": "stdout",
     "output_type": "stream",
     "text": [
      "Epoch: 79 \n",
      "\tTraining Loss: 0.902359 \n",
      "\tValidation Loss: 1.014522 [Minimum Validation Loss in the History: 1.008319]\n",
      "\t\tValidation Accuracy of style 1: 78% (5070/6473)\n",
      "\t\tValidation Accuracy of style 2: 70% (5368/7619)\n",
      "\t\tValidation Accuracy of style 3: 71% (5086/7156)\n",
      "\t\tTotal Accuracy: 73.06% (15524/21248)\n"
     ]
    },
    {
     "name": "stderr",
     "output_type": "stream",
     "text": [
      "100%|██████████| 2994/2994 [00:17<00:00, 173.90it/s]\n",
      "100%|██████████| 332/332 [00:02<00:00, 156.55it/s]\n"
     ]
    },
    {
     "name": "stdout",
     "output_type": "stream",
     "text": [
      "Epoch: 80 \n",
      "\tTraining Loss: 0.901893 \n",
      "\tValidation Loss: 1.010993 [Minimum Validation Loss in the History: 1.008319]\n",
      "\t\tValidation Accuracy of style 1: 76% (4931/6473)\n",
      "\t\tValidation Accuracy of style 2: 72% (5487/7619)\n",
      "\t\tValidation Accuracy of style 3: 72% (5168/7156)\n",
      "\t\tTotal Accuracy: 73.35% (15586/21248)\n"
     ]
    },
    {
     "name": "stderr",
     "output_type": "stream",
     "text": [
      "100%|██████████| 2994/2994 [00:17<00:00, 174.20it/s]\n",
      "100%|██████████| 332/332 [00:02<00:00, 157.28it/s]\n"
     ]
    },
    {
     "name": "stdout",
     "output_type": "stream",
     "text": [
      "Epoch: 81 \n",
      "\tTraining Loss: 0.900736 \n",
      "\tValidation Loss: 1.012288 [Minimum Validation Loss in the History: 1.008319]\n",
      "\t\tValidation Accuracy of style 1: 74% (4827/6473)\n",
      "\t\tValidation Accuracy of style 2: 72% (5553/7619)\n",
      "\t\tValidation Accuracy of style 3: 71% (5152/7156)\n",
      "\t\tTotal Accuracy: 73.10% (15532/21248)\n"
     ]
    },
    {
     "name": "stderr",
     "output_type": "stream",
     "text": [
      "100%|██████████| 2994/2994 [00:17<00:00, 174.28it/s]\n",
      "100%|██████████| 332/332 [00:02<00:00, 157.29it/s]\n"
     ]
    },
    {
     "name": "stdout",
     "output_type": "stream",
     "text": [
      "Epoch: 82 \n",
      "\tTraining Loss: 0.900708 \n",
      "\tValidation Loss: 1.011732 [Minimum Validation Loss in the History: 1.008319]\n",
      "\t\tValidation Accuracy of style 1: 72% (4661/6473)\n",
      "\t\tValidation Accuracy of style 2: 73% (5628/7619)\n",
      "\t\tValidation Accuracy of style 3: 73% (5261/7156)\n",
      "\t\tTotal Accuracy: 73.18% (15550/21248)\n"
     ]
    },
    {
     "name": "stderr",
     "output_type": "stream",
     "text": [
      "100%|██████████| 2994/2994 [00:17<00:00, 173.87it/s]\n",
      "100%|██████████| 332/332 [00:02<00:00, 159.11it/s]\n"
     ]
    },
    {
     "name": "stdout",
     "output_type": "stream",
     "text": [
      "Epoch: 83 \n",
      "\tTraining Loss: 0.899318 \n",
      "\tValidation Loss: 1.011466 [Minimum Validation Loss in the History: 1.008319]\n",
      "\t\tValidation Accuracy of style 1: 76% (4984/6473)\n",
      "\t\tValidation Accuracy of style 2: 71% (5466/7619)\n",
      "\t\tValidation Accuracy of style 3: 71% (5136/7156)\n",
      "\t\tTotal Accuracy: 73.35% (15586/21248)\n"
     ]
    },
    {
     "name": "stderr",
     "output_type": "stream",
     "text": [
      "100%|██████████| 2994/2994 [00:17<00:00, 174.33it/s]\n",
      "100%|██████████| 332/332 [00:02<00:00, 156.68it/s]\n"
     ]
    },
    {
     "name": "stdout",
     "output_type": "stream",
     "text": [
      "Epoch: 84 \n",
      "\tTraining Loss: 0.899173 \n",
      "\tValidation Loss: 1.011966 [Minimum Validation Loss in the History: 1.008319]\n",
      "\t\tValidation Accuracy of style 1: 75% (4918/6473)\n",
      "\t\tValidation Accuracy of style 2: 72% (5536/7619)\n",
      "\t\tValidation Accuracy of style 3: 70% (5071/7156)\n",
      "\t\tTotal Accuracy: 73.07% (15525/21248)\n"
     ]
    },
    {
     "name": "stderr",
     "output_type": "stream",
     "text": [
      "100%|██████████| 2994/2994 [00:17<00:00, 173.87it/s]\n",
      "100%|██████████| 332/332 [00:02<00:00, 157.46it/s]\n"
     ]
    },
    {
     "name": "stdout",
     "output_type": "stream",
     "text": [
      "Epoch: 85 \n",
      "\tTraining Loss: 0.898556 \n",
      "\tValidation Loss: 1.010115 [Minimum Validation Loss in the History: 1.008319]\n",
      "\t\tValidation Accuracy of style 1: 73% (4753/6473)\n",
      "\t\tValidation Accuracy of style 2: 73% (5599/7619)\n",
      "\t\tValidation Accuracy of style 3: 72% (5205/7156)\n",
      "\t\tTotal Accuracy: 73.22% (15557/21248)\n"
     ]
    },
    {
     "name": "stderr",
     "output_type": "stream",
     "text": [
      "100%|██████████| 2994/2994 [00:17<00:00, 174.57it/s]\n",
      "100%|██████████| 332/332 [00:02<00:00, 155.14it/s]\n"
     ]
    },
    {
     "name": "stdout",
     "output_type": "stream",
     "text": [
      "Epoch: 86 \n",
      "\tTraining Loss: 0.897617 \n",
      "\tValidation Loss: 1.011737 [Minimum Validation Loss in the History: 1.008319]\n",
      "\t\tValidation Accuracy of style 1: 73% (4732/6473)\n",
      "\t\tValidation Accuracy of style 2: 74% (5664/7619)\n",
      "\t\tValidation Accuracy of style 3: 71% (5114/7156)\n",
      "\t\tTotal Accuracy: 73.00% (15510/21248)\n"
     ]
    },
    {
     "name": "stderr",
     "output_type": "stream",
     "text": [
      "100%|██████████| 2994/2994 [00:17<00:00, 172.73it/s]\n",
      "100%|██████████| 332/332 [00:02<00:00, 159.15it/s]\n"
     ]
    },
    {
     "name": "stdout",
     "output_type": "stream",
     "text": [
      "Epoch: 87 \n",
      "\tTraining Loss: 0.897119 \n",
      "\tValidation Loss: 1.009261 [Minimum Validation Loss in the History: 1.008319]\n",
      "\t\tValidation Accuracy of style 1: 73% (4776/6473)\n",
      "\t\tValidation Accuracy of style 2: 73% (5590/7619)\n",
      "\t\tValidation Accuracy of style 3: 73% (5239/7156)\n",
      "\t\tTotal Accuracy: 73.44% (15605/21248)\n"
     ]
    },
    {
     "name": "stderr",
     "output_type": "stream",
     "text": [
      "100%|██████████| 2994/2994 [00:17<00:00, 173.00it/s]\n",
      "100%|██████████| 332/332 [00:02<00:00, 156.82it/s]\n"
     ]
    },
    {
     "name": "stdout",
     "output_type": "stream",
     "text": [
      "Epoch: 88 \n",
      "\tTraining Loss: 0.896851 \n",
      "\tValidation Loss: 1.010342 [Minimum Validation Loss in the History: 1.008319]\n",
      "\t\tValidation Accuracy of style 1: 75% (4860/6473)\n",
      "\t\tValidation Accuracy of style 2: 72% (5550/7619)\n",
      "\t\tValidation Accuracy of style 3: 71% (5139/7156)\n",
      "\t\tTotal Accuracy: 73.18% (15549/21248)\n"
     ]
    },
    {
     "name": "stderr",
     "output_type": "stream",
     "text": [
      "100%|██████████| 2994/2994 [00:17<00:00, 176.06it/s]\n",
      "100%|██████████| 332/332 [00:02<00:00, 158.38it/s]\n"
     ]
    },
    {
     "name": "stdout",
     "output_type": "stream",
     "text": [
      "Epoch: 89 \n",
      "\tTraining Loss: 0.896058 \n",
      "\tValidation Loss: 1.010019 [Minimum Validation Loss in the History: 1.008319]\n",
      "\t\tValidation Accuracy of style 1: 74% (4839/6473)\n",
      "\t\tValidation Accuracy of style 2: 72% (5549/7619)\n",
      "\t\tValidation Accuracy of style 3: 72% (5200/7156)\n",
      "\t\tTotal Accuracy: 73.36% (15588/21248)\n"
     ]
    },
    {
     "name": "stderr",
     "output_type": "stream",
     "text": [
      "100%|██████████| 2994/2994 [00:17<00:00, 173.77it/s]\n",
      "100%|██████████| 332/332 [00:02<00:00, 154.92it/s]\n"
     ]
    },
    {
     "name": "stdout",
     "output_type": "stream",
     "text": [
      "Epoch: 90 \n",
      "\tTraining Loss: 0.895199 \n",
      "\tValidation Loss: 1.011618 [Minimum Validation Loss in the History: 1.008319]\n",
      "\t\tValidation Accuracy of style 1: 77% (4987/6473)\n",
      "\t\tValidation Accuracy of style 2: 71% (5469/7619)\n",
      "\t\tValidation Accuracy of style 3: 71% (5111/7156)\n",
      "\t\tTotal Accuracy: 73.26% (15567/21248)\n"
     ]
    },
    {
     "name": "stderr",
     "output_type": "stream",
     "text": [
      "100%|██████████| 2994/2994 [00:17<00:00, 174.86it/s]\n",
      "100%|██████████| 332/332 [00:02<00:00, 149.44it/s]\n"
     ]
    },
    {
     "name": "stdout",
     "output_type": "stream",
     "text": [
      "Epoch: 91 \n",
      "\tTraining Loss: 0.894947 \n",
      "\tValidation Loss: 1.012867 [Minimum Validation Loss in the History: 1.008319]\n",
      "\t\tValidation Accuracy of style 1: 77% (5040/6473)\n",
      "\t\tValidation Accuracy of style 2: 71% (5444/7619)\n",
      "\t\tValidation Accuracy of style 3: 70% (5047/7156)\n",
      "\t\tTotal Accuracy: 73.09% (15531/21248)\n"
     ]
    },
    {
     "name": "stderr",
     "output_type": "stream",
     "text": [
      "100%|██████████| 2994/2994 [00:17<00:00, 174.94it/s]\n",
      "100%|██████████| 332/332 [00:02<00:00, 160.14it/s]\n"
     ]
    },
    {
     "name": "stdout",
     "output_type": "stream",
     "text": [
      "Epoch: 92 \n",
      "\tTraining Loss: 0.894208 \n",
      "\tValidation Loss: 1.011109 [Minimum Validation Loss in the History: 1.008319]\n",
      "\t\tValidation Accuracy of style 1: 75% (4897/6473)\n",
      "\t\tValidation Accuracy of style 2: 72% (5502/7619)\n",
      "\t\tValidation Accuracy of style 3: 72% (5169/7156)\n",
      "\t\tTotal Accuracy: 73.27% (15568/21248)\n"
     ]
    },
    {
     "name": "stderr",
     "output_type": "stream",
     "text": [
      "100%|██████████| 2994/2994 [00:17<00:00, 172.61it/s]\n",
      "100%|██████████| 332/332 [00:02<00:00, 157.42it/s]\n"
     ]
    },
    {
     "name": "stdout",
     "output_type": "stream",
     "text": [
      "Epoch: 93 \n",
      "\tTraining Loss: 0.893900 \n",
      "\tValidation Loss: 1.010517 [Minimum Validation Loss in the History: 1.008319]\n",
      "\t\tValidation Accuracy of style 1: 74% (4833/6473)\n",
      "\t\tValidation Accuracy of style 2: 73% (5615/7619)\n",
      "\t\tValidation Accuracy of style 3: 71% (5108/7156)\n",
      "\t\tTotal Accuracy: 73.21% (15556/21248)\n"
     ]
    },
    {
     "name": "stderr",
     "output_type": "stream",
     "text": [
      "100%|██████████| 2994/2994 [00:17<00:00, 174.09it/s]\n",
      "100%|██████████| 332/332 [00:02<00:00, 157.76it/s]\n"
     ]
    },
    {
     "name": "stdout",
     "output_type": "stream",
     "text": [
      "Epoch: 94 \n",
      "\tTraining Loss: 0.893635 \n",
      "\tValidation Loss: 1.009591 [Minimum Validation Loss in the History: 1.008319]\n",
      "\t\tValidation Accuracy of style 1: 74% (4821/6473)\n",
      "\t\tValidation Accuracy of style 2: 73% (5606/7619)\n",
      "\t\tValidation Accuracy of style 3: 71% (5138/7156)\n",
      "\t\tTotal Accuracy: 73.25% (15565/21248)\n"
     ]
    },
    {
     "name": "stderr",
     "output_type": "stream",
     "text": [
      "100%|██████████| 2994/2994 [00:17<00:00, 174.32it/s]\n",
      "100%|██████████| 332/332 [00:02<00:00, 158.16it/s]\n"
     ]
    },
    {
     "name": "stdout",
     "output_type": "stream",
     "text": [
      "Epoch: 95 \n",
      "\tTraining Loss: 0.892579 \n",
      "\tValidation Loss: 1.012151 [Minimum Validation Loss in the History: 1.008319]\n",
      "\t\tValidation Accuracy of style 1: 75% (4896/6473)\n",
      "\t\tValidation Accuracy of style 2: 72% (5551/7619)\n",
      "\t\tValidation Accuracy of style 3: 71% (5081/7156)\n",
      "\t\tTotal Accuracy: 73.08% (15528/21248)\n"
     ]
    },
    {
     "name": "stderr",
     "output_type": "stream",
     "text": [
      "100%|██████████| 2994/2994 [00:17<00:00, 173.23it/s]\n",
      "100%|██████████| 332/332 [00:02<00:00, 156.33it/s]\n"
     ]
    },
    {
     "name": "stdout",
     "output_type": "stream",
     "text": [
      "Epoch: 96 \n",
      "\tTraining Loss: 0.892624 \n",
      "\tValidation Loss: 1.011602 [Minimum Validation Loss in the History: 1.008319]\n",
      "\t\tValidation Accuracy of style 1: 75% (4860/6473)\n",
      "\t\tValidation Accuracy of style 2: 72% (5543/7619)\n",
      "\t\tValidation Accuracy of style 3: 72% (5159/7156)\n",
      "\t\tTotal Accuracy: 73.24% (15562/21248)\n"
     ]
    },
    {
     "name": "stderr",
     "output_type": "stream",
     "text": [
      "100%|██████████| 2994/2994 [00:17<00:00, 174.35it/s]\n",
      "100%|██████████| 332/332 [00:02<00:00, 158.37it/s]\n"
     ]
    },
    {
     "name": "stdout",
     "output_type": "stream",
     "text": [
      "Epoch: 97 \n",
      "\tTraining Loss: 0.891562 \n",
      "\tValidation Loss: 1.012034 [Minimum Validation Loss in the History: 1.008319]\n",
      "\t\tValidation Accuracy of style 1: 74% (4819/6473)\n",
      "\t\tValidation Accuracy of style 2: 73% (5581/7619)\n",
      "\t\tValidation Accuracy of style 3: 71% (5138/7156)\n",
      "\t\tTotal Accuracy: 73.13% (15538/21248)\n"
     ]
    },
    {
     "name": "stderr",
     "output_type": "stream",
     "text": [
      "100%|██████████| 2994/2994 [00:17<00:00, 172.52it/s]\n",
      "100%|██████████| 332/332 [00:02<00:00, 157.56it/s]\n"
     ]
    },
    {
     "name": "stdout",
     "output_type": "stream",
     "text": [
      "Epoch: 98 \n",
      "\tTraining Loss: 0.891440 \n",
      "\tValidation Loss: 1.013664 [Minimum Validation Loss in the History: 1.008319]\n",
      "\t\tValidation Accuracy of style 1: 77% (5011/6473)\n",
      "\t\tValidation Accuracy of style 2: 71% (5464/7619)\n",
      "\t\tValidation Accuracy of style 3: 70% (5045/7156)\n",
      "\t\tTotal Accuracy: 73.04% (15520/21248)\n"
     ]
    },
    {
     "name": "stderr",
     "output_type": "stream",
     "text": [
      "100%|██████████| 2994/2994 [00:16<00:00, 176.76it/s]\n",
      "100%|██████████| 332/332 [00:02<00:00, 158.64it/s]\n"
     ]
    },
    {
     "name": "stdout",
     "output_type": "stream",
     "text": [
      "Epoch: 99 \n",
      "\tTraining Loss: 0.890684 \n",
      "\tValidation Loss: 1.009660 [Minimum Validation Loss in the History: 1.008319]\n",
      "\t\tValidation Accuracy of style 1: 74% (4805/6473)\n",
      "\t\tValidation Accuracy of style 2: 73% (5579/7619)\n",
      "\t\tValidation Accuracy of style 3: 72% (5207/7156)\n",
      "\t\tTotal Accuracy: 73.38% (15591/21248)\n"
     ]
    },
    {
     "name": "stderr",
     "output_type": "stream",
     "text": [
      "100%|██████████| 2994/2994 [00:17<00:00, 172.02it/s]\n",
      " 48%|████▊     | 159/332 [00:01<00:01, 159.35it/s]"
     ]
    }
   ],
   "source": [
    "epoch_num = 50\n",
    "\n",
    "valid_loss_min = np.Inf\n",
    "\n",
    "all_training_loss = []\n",
    "all_validation_loss = []\n",
    "\n",
    "lr = []\n",
    "\n",
    "for epoch in range(1, epoch_num+1):\n",
    "\n",
    "    train_loss = 0.0\n",
    "    valid_loss = 0.0\n",
    "\n",
    "    class_correct = list(0. for i in range(3))\n",
    "    class_total = list(0. for i in range(3))\n",
    "\n",
    "    ##### train the model #####\n",
    "    model.train()\n",
    "    for _, all_data in enumerate(train_loader):\n",
    "\n",
    "        if train_on_gpu:\n",
    "            data = all_data[0].cuda()\n",
    "            target = all_data[1].cuda()\n",
    "        else:\n",
    "            data = all_data[0].to(mps_device)\n",
    "            target = all_data[1].to(mps_device)\n",
    "\n",
    "        lr.append(optimizer.param_groups[0]['lr'])\n",
    "\n",
    "        # clear the gradients of all optimized variables\n",
    "        optimizer.zero_grad()\n",
    "\n",
    "        output = model(data)\n",
    "\n",
    "        loss = criterion(output, target)\n",
    "        loss.backward()\n",
    "        optimizer.step()\n",
    "\n",
    "        scheduler.step(loss)\n",
    "\n",
    "\n",
    "        train_loss += loss.item() * data.size(0)\n",
    "\n",
    "\n",
    "    ##### validate the model #####\n",
    "    model.eval()\n",
    "    for _, all_data in enumerate(valid_loader):\n",
    "        if train_on_gpu:\n",
    "            data = all_data[0].cuda()\n",
    "            target = all_data[1].cuda()\n",
    "        else:\n",
    "            # data, target = data.to(mps_device), target.to(mps_device)\n",
    "            data = all_data[0].to(mps_device)\n",
    "            target = all_data[1].to(mps_device)\n",
    "\n",
    "        output = model(data)\n",
    "        loss = criterion(output, target)\n",
    "        valid_loss += loss.item() * data.size(0)\n",
    "\n",
    "        # convert output probabilities to predicted class\n",
    "        _, pred = torch.max(output, 1)\n",
    "\n",
    "        ans = []\n",
    "        for i in range(batch_size):\n",
    "            for j in range(3):\n",
    "                if target[i][j]:\n",
    "                    ans.append(j)\n",
    "        ans = torch.tensor(np.array(ans))\n",
    "\n",
    "        if train_on_gpu:\n",
    "            pred = pred.cpu()\n",
    "        else:\n",
    "            pred = pred.cpu()\n",
    "\n",
    "        correct_tensor = pred.eq(ans.data.view_as(pred))\n",
    "        correct = np.squeeze(correct_tensor.numpy()) if not train_on_gpu else np.squeeze(correct_tensor.cpu().numpy())\n",
    "\n",
    "        # calculate test accuracy for each object class\n",
    "        for i in range(batch_size):\n",
    "            label = ans.data[i]\n",
    "            class_correct[label] += correct[i].item()\n",
    "            class_total[label] += 1\n",
    "\n",
    "    # calculate average losses\n",
    "    train_loss = train_loss/len(train_loader.sampler)\n",
    "    valid_loss = valid_loss/len(valid_loader.sampler)\n",
    "\n",
    "\n",
    "    all_training_loss.append(train_loss)\n",
    "    all_validation_loss.append(valid_loss)\n",
    "\n",
    "    # print training/validation statistics\n",
    "    print('Epoch: {} \\n\\tTraining Loss: {:.6f} \\n\\tValidation Loss: {:.6f} [Minimum Validation Loss in the History: {:.6f}]'.format(\n",
    "        epoch, train_loss, valid_loss, valid_loss_min))\n",
    "\n",
    "    for i in range(3):\n",
    "        if class_total[i] > 0:\n",
    "            print('\\t\\tValidation Accuracy of style %d: %2d%% (%2d/%2d)' % (\n",
    "                i + 1, 100 * class_correct[i] / class_total[i],\n",
    "                np.sum(class_correct[i]), np.sum(class_total[i])))\n",
    "        else:\n",
    "            print('\\t\\tTest Accuracy of style: N/A (no training examples)' % (i + 1))\n",
    "\n",
    "    print('\\t\\tTotal Accuracy: %2.2f%% (%2d/%2d)' % (100 * np.sum(class_correct) / np.sum(class_total), np.sum(class_correct), np.sum(class_total)))\n",
    "\n",
    "    torch.save(model.state_dict(), f\"{directory_path}/{version_name}_{valid_loss:.6f}.pt\")\n",
    "\n",
    "    # save model if validation loss has decreased\n",
    "    if valid_loss <= valid_loss_min:\n",
    "        print('\\t***** Validation loss decreased ({:.6f} --> {:.6f}).  Saving model ... *****'.format(valid_loss_min, valid_loss))\n",
    "        torch.save(model.state_dict(), f\"{version_name}.pt\")\n",
    "        valid_loss_min = valid_loss\n",
    "\n"
   ]
  },
  {
   "cell_type": "markdown",
   "metadata": {
    "id": "Fex9wr2sHGZL"
   },
   "source": [
    "### Plot the result\n"
   ]
  },
  {
   "cell_type": "code",
   "execution_count": null,
   "metadata": {
    "colab": {
     "base_uri": "https://localhost:8080/",
     "height": 293
    },
    "id": "QeFrbjw_HGZL",
    "outputId": "c6eddbbb-e699-4add-9e47-a0a50b279bb2"
   },
   "outputs": [],
   "source": [
    "# showing the training loss and validation loss during the training process\n",
    "plt.plot(np.array(all_training_loss),label=\"training loss\")\n",
    "plt.plot(np.array(all_validation_loss), label=\"validation loss\")\n",
    "plt.title(\"Training Curve\")\n",
    "plt.legend()\n",
    "plt.show()"
   ]
  },
  {
   "cell_type": "markdown",
   "metadata": {
    "id": "voxjWSFfHGZL"
   },
   "source": [
    "### Test the Trained Network"
   ]
  },
  {
   "cell_type": "code",
   "execution_count": 16,
   "metadata": {},
   "outputs": [],
   "source": [
    "def Test(data_path: str, model, dict_path: str, output_path: str):\n",
    "\n",
    "    # read file\n",
    "    df_test = open(data_path).read().splitlines()\n",
    "\n",
    "    # convert into formatted np array\n",
    "    games = [i.split(',', 1)[-1] for i in df_test]\n",
    "    game_ids = [i.split(',', 1)[0] for i in df_test]\n",
    "\n",
    "    x_test = []\n",
    "    for game in games:\n",
    "        moves_list = game.split(',')\n",
    "        filtered_list = [element for element in moves_list if element]\n",
    "        x_test.append(convert_game(filtered_list))\n",
    "\n",
    "    x_test = np.array(x_test)\n",
    "\n",
    "    # convert the np array into torch tensor\n",
    "    x_test = torch.Tensor(x_test)\n",
    "\n",
    "    # load the dictionary\n",
    "    model.load_state_dict(torch.load(\n",
    "        dict_path, map_location=torch.device('cpu')))\n",
    "    model.eval()\n",
    "\n",
    "    # evaluate the result\n",
    "    with torch.no_grad():\n",
    "        output = model(x_test)\n",
    "\n",
    "    # convert the result into value\n",
    "    ans = []\n",
    "    for o in output:\n",
    "        if (o[0] > 0.5):\n",
    "            ans.append(1)\n",
    "        elif (o[1] > 0.5):\n",
    "            ans.append(2)\n",
    "        else:\n",
    "            ans.append(3)\n",
    "\n",
    "    # append the answer to the csv file\n",
    "    with open(output_path, 'a+') as f:\n",
    "        for i in range(len(ans)):\n",
    "            f.write(f\"{game_ids[i]},{ans[i]}\\n\")\n"
   ]
  },
  {
   "cell_type": "code",
   "execution_count": 17,
   "metadata": {},
   "outputs": [],
   "source": [
    "# Set up coordinate\n",
    "chars = 'abcdefghijklmnopqrs'\n",
    "coordinates = {k: v for v, k in enumerate(chars)}\n",
    "\n",
    "def convert_game(moves):\n",
    "    x = np.zeros((4, 19, 19))\n",
    "    last_move_color = moves[-1][0]\n",
    "\n",
    "    for move in moves:\n",
    "        color = move[0]\n",
    "        column = coordinates[move[2]]\n",
    "        row = coordinates[move[3]]\n",
    "        column = coordinates[move[2]]\n",
    "        row = coordinates[move[3]]\n",
    "        x[0, row, column] = 1\n",
    "\n",
    "        if (color == last_move_color):\n",
    "            x[2, row, column] = 1\n",
    "        else:\n",
    "            x[1, row, column] = 1\n",
    "\n",
    "    last_move_column = coordinates[moves[-1][2]]\n",
    "    last_move_row = coordinates[moves[-1][3]]\n",
    "    x[3, row, column] = 1\n",
    "\n",
    "    return x"
   ]
  },
  {
   "cell_type": "code",
   "execution_count": 28,
   "metadata": {
    "id": "GKnaXIDLHGZL"
   },
   "outputs": [],
   "source": [
    "load_dict_name = './model_3_1.pt'\n",
    "TEST_PATH = \"./Testing Dataset/play_style_test_public.csv\"\n",
    "output_path = \"./public_prediction_model_3_1.csv\"\n"
   ]
  },
  {
   "cell_type": "code",
   "execution_count": 29,
   "metadata": {
    "id": "tMNKjmFIHGZL"
   },
   "outputs": [],
   "source": [
    "model = model.to('cpu')\n",
    "Test(TEST_PATH,model, load_dict_name,output_path)"
   ]
  }
 ],
 "metadata": {
  "accelerator": "GPU",
  "colab": {
   "gpuType": "T4",
   "provenance": []
  },
  "kernelspec": {
   "display_name": "Python 3 (ipykernel)",
   "language": "python",
   "name": "python3"
  },
  "language_info": {
   "codemirror_mode": {
    "name": "ipython",
    "version": 3
   },
   "file_extension": ".py",
   "mimetype": "text/x-python",
   "name": "python",
   "nbconvert_exporter": "python",
   "pygments_lexer": "ipython3",
   "version": "3.11.5"
  }
 },
 "nbformat": 4,
 "nbformat_minor": 1
}
