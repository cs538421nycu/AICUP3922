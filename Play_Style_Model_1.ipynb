{
 "cells": [
  {
   "cell_type": "markdown",
   "metadata": {},
   "source": [
    "### Import libraries"
   ]
  },
  {
   "cell_type": "code",
   "execution_count": 3,
   "metadata": {},
   "outputs": [],
   "source": [
    "# Import libraries\n",
    "import torch\n",
    "import numpy as np\n",
    "import matplotlib.pyplot as plt\n",
    "%matplotlib inline\n",
    "\n",
    "# PyTorch dataset\n",
    "from torch.utils.data.sampler import SubsetRandomSampler\n",
    "\n",
    "# PyTorch model\n",
    "import torch.nn as nn\n",
    "import torch.nn.functional as F\n",
    "import torch.optim as optim\n",
    "from torch.optim.lr_scheduler import ReduceLROnPlateau"
   ]
  },
  {
   "cell_type": "markdown",
   "metadata": {},
   "source": [
    "### Load Dataset"
   ]
  },
  {
   "cell_type": "code",
   "execution_count": 4,
   "metadata": {},
   "outputs": [],
   "source": [
    "df = open('./Training Dataset/play_style_train.csv').read().splitlines()\n",
    "# df = df[:25000]\n",
    "\n",
    "games = [i.split(',', 2)[-1] for i in df]\n",
    "game_styles = [int(i.split(',', 2)[-2]) for i in df]"
   ]
  },
  {
   "cell_type": "code",
   "execution_count": 5,
   "metadata": {},
   "outputs": [
    {
     "name": "stdout",
     "output_type": "stream",
     "text": [
      "B[dq],W[pd],B[qp],W[dd],B[cf],W[do],B[ck]\n",
      "[1, 1, 1, 1, 1, 2, 2, 2, 3, 3]\n"
     ]
    }
   ],
   "source": [
    "print(games[0])\n",
    "print(game_styles[:10])"
   ]
  },
  {
   "cell_type": "markdown",
   "metadata": {},
   "source": [
    "### Data processing"
   ]
  },
  {
   "cell_type": "code",
   "execution_count": null,
   "metadata": {},
   "outputs": [],
   "source": [
    "# Set up coordinate\n",
    "chars = 'abcdefghijklmnopqrs'\n",
    "coordinates = {k: v for v, k in enumerate(chars)}"
   ]
  },
  {
   "cell_type": "code",
   "execution_count": null,
   "metadata": {},
   "outputs": [],
   "source": [
    "def convert_game(moves):\n",
    "    x = np.zeros((4, 19, 19))\n",
    "    last_move_color = moves[-1][0]\n",
    "\n",
    "    for move in moves:\n",
    "        color = move[0]\n",
    "        column = coordinates[move[2]]\n",
    "        row = coordinates[move[3]]\n",
    "        column = coordinates[move[2]]\n",
    "        row = coordinates[move[3]]\n",
    "        x[0, row, column] = 1\n",
    "\n",
    "        if (color == last_move_color):\n",
    "            x[2, row, column] = 1\n",
    "        else:\n",
    "            x[1, row, column] = 1\n",
    "\n",
    "    last_move_column = coordinates[moves[-1][2]]\n",
    "    last_move_row = coordinates[moves[-1][3]]\n",
    "    x[3, row, column] = 1\n",
    "\n",
    "    return x"
   ]
  },
  {
   "cell_type": "code",
   "execution_count": null,
   "metadata": {},
   "outputs": [],
   "source": [
    "# Convert y into an one-hot array\n",
    "def one_hot_encoding(value):\n",
    "    one_hot = torch.eye(3)[value]\n",
    "    one_hot = np.array(one_hot)\n",
    "    return one_hot"
   ]
  },
  {
   "cell_type": "code",
   "execution_count": 7,
   "metadata": {},
   "outputs": [],
   "source": [
    "x = []\n",
    "for game in games:\n",
    "    moves_list = game.split(',')\n",
    "    x.append(convert_game(moves_list))\n",
    "x = np.array(x)\n",
    "\n",
    "Y = []\n",
    "y = np.array(game_styles) - 1\n",
    "for yi in y:\n",
    "    Y.append(one_hot_encoding(yi))\n"
   ]
  },
  {
   "cell_type": "markdown",
   "metadata": {},
   "source": [
    "### Data Transform"
   ]
  },
  {
   "cell_type": "code",
   "execution_count": 9,
   "metadata": {},
   "outputs": [],
   "source": [
    "# flip and rotate the image to increase the training data\n",
    "def flip_rotate(feature: np.ndarray, target: np.ndarray):\n",
    "    a0 = np.array(feature)\n",
    "    a1 = np.rot90(a0, axes=(2, 3))\n",
    "    a2 = np.rot90(a1, axes=(2, 3))\n",
    "    a3 = np.rot90(a2, axes=(2, 3))\n",
    "    b0 = np.flip(a0, axis=3)\n",
    "    b1 = np.rot90(b0, axes=(2, 3))\n",
    "    b2 = np.rot90(b1, axes=(2, 3))\n",
    "    b3 = np.rot90(b2, axes=(2, 3))\n",
    "\n",
    "    c = np.concatenate((a0, a1, a2, a3, b0, b1, b2, b3), axis=0)\n",
    "\n",
    "    d = np.concatenate((target, target, target, target,\n",
    "                       target, target, target, target), axis=0)\n",
    "    return c, d\n"
   ]
  },
  {
   "cell_type": "code",
   "execution_count": 10,
   "metadata": {},
   "outputs": [],
   "source": [
    "x,y = flip_rotate(x, Y)"
   ]
  },
  {
   "cell_type": "markdown",
   "metadata": {},
   "source": [
    "### Load Data"
   ]
  },
  {
   "cell_type": "code",
   "execution_count": 11,
   "metadata": {},
   "outputs": [],
   "source": [
    "# number of subprocesses to use for data loading\n",
    "num_workers = 0\n",
    "# how many samples per batch to load\n",
    "batch_size = 64\n",
    "# percentage of training set to use as validation\n",
    "valid_size = 0.1"
   ]
  },
  {
   "cell_type": "code",
   "execution_count": 12,
   "metadata": {},
   "outputs": [
    {
     "name": "stdout",
     "output_type": "stream",
     "text": [
      "212920 64 3326 212864 21248\n"
     ]
    }
   ],
   "source": [
    "# obtain training indices that will be used for validation\n",
    "num_batch = len(x) // batch_size\n",
    "num_train = num_batch * batch_size\n",
    "indices = list(range(num_train))\n",
    "np.random.shuffle(indices)\n",
    "split = int(np.floor(valid_size * num_batch)) * batch_size\n",
    "train_idx, valid_idx = indices[split:], indices[:split]\n",
    "print(len(x), batch_size, num_batch, num_train, split)"
   ]
  },
  {
   "cell_type": "code",
   "execution_count": 13,
   "metadata": {},
   "outputs": [
    {
     "name": "stdout",
     "output_type": "stream",
     "text": [
      "191616 21248\n"
     ]
    }
   ],
   "source": [
    "# define samplers for obtaining training and validation batches\n",
    "train_sampler = SubsetRandomSampler(train_idx)\n",
    "valid_sampler = SubsetRandomSampler(valid_idx)\n",
    "print(len(train_sampler), len(valid_sampler))"
   ]
  },
  {
   "cell_type": "code",
   "execution_count": 14,
   "metadata": {},
   "outputs": [],
   "source": [
    "# prepare data loaders (combine dataset and sampler)\n",
    "x = torch.Tensor(x)\n",
    "y = torch.Tensor(y)\n",
    "# y = torch.stack(Y)\n",
    "\n",
    "dataset = torch.utils.data.TensorDataset(x, y)\n",
    "\n",
    "train_loader = torch.utils.data.DataLoader(\n",
    "    dataset,\n",
    "    batch_size=batch_size,\n",
    "    sampler=train_sampler,\n",
    "    num_workers=num_workers\n",
    ")\n",
    "valid_loader = torch.utils.data.DataLoader(\n",
    "    dataset,\n",
    "    batch_size=batch_size,\n",
    "    sampler=valid_sampler,\n",
    "    num_workers=num_workers\n",
    ")"
   ]
  },
  {
   "cell_type": "markdown",
   "metadata": {},
   "source": [
    "### Defind Model"
   ]
  },
  {
   "cell_type": "code",
   "execution_count": 15,
   "metadata": {},
   "outputs": [],
   "source": [
    "class Network(nn.Module):\n",
    "    def __init__(self):\n",
    "        super(Network, self).__init__()\n",
    "        self.conv1 = nn.Conv2d(4, 8, 7, padding=3)\n",
    "        self.conv2 = nn.Conv2d(8, 16, 5, padding=2)\n",
    "        self.conv3 = nn.Conv2d(16, 32, 3, padding=1)\n",
    "        self.conv4 = nn.Conv2d(32, 64, 3, padding=1)\n",
    "        self.conv5 = nn.Conv2d(64, 32, 3, padding=1)\n",
    "        \n",
    "        self.avgpool = nn.AvgPool2d(2, 2)\n",
    "\n",
    "        self.fc1 = nn.Linear(32 * 9 * 9, 1024)\n",
    "        self.fc2 = nn.Linear(1024 , 256)\n",
    "        self.fc3 = nn.Linear(256, 64)\n",
    "        self.fc4 = nn.Linear(64, 3)\n",
    "\n",
    "        self.dropout = nn.Dropout(0.25)\n",
    "\n",
    "    def forward(self, x):\n",
    "        x = F.relu(self.conv1(x))\n",
    "        x = F.relu(self.conv2(x))\n",
    "        x = F.relu(self.conv3(x))\n",
    "        x = self.avgpool(F.relu(self.conv4(x)))\n",
    "        x = F.relu(self.conv5(x))\n",
    "\n",
    "        x = x.view(x.shape[0], -1) # flatten\n",
    "\n",
    "        x = self.dropout(x)\n",
    "        x = F.relu(self.fc1(x))\n",
    "        x = self.dropout(x)\n",
    "        x = F.relu(self.fc2(x))\n",
    "        x = self.dropout(x)\n",
    "        x = F.relu(self.fc3(x))\n",
    "        x = self.dropout(x)\n",
    "        x = F.softmax(self.fc4(x), dim=1)\n",
    "        \n",
    "        return x"
   ]
  },
  {
   "cell_type": "code",
   "execution_count": 16,
   "metadata": {},
   "outputs": [
    {
     "data": {
      "text/plain": [
       "Network(\n",
       "  (conv5): Conv2d(4, 8, kernel_size=(7, 7), stride=(1, 1), padding=(3, 3))\n",
       "  (conv1): Conv2d(8, 16, kernel_size=(5, 5), stride=(1, 1), padding=(2, 2))\n",
       "  (conv2): Conv2d(16, 32, kernel_size=(3, 3), stride=(1, 1), padding=(1, 1))\n",
       "  (conv3): Conv2d(32, 64, kernel_size=(3, 3), stride=(1, 1), padding=(1, 1))\n",
       "  (conv4): Conv2d(64, 32, kernel_size=(3, 3), stride=(1, 1), padding=(1, 1))\n",
       "  (avgpool): AvgPool2d(kernel_size=2, stride=2, padding=0)\n",
       "  (fc4): Linear(in_features=2592, out_features=1024, bias=True)\n",
       "  (fc1): Linear(in_features=1024, out_features=256, bias=True)\n",
       "  (fc2): Linear(in_features=256, out_features=64, bias=True)\n",
       "  (fc3): Linear(in_features=64, out_features=3, bias=True)\n",
       "  (dropout): Dropout(p=0.25, inplace=False)\n",
       ")"
      ]
     },
     "execution_count": 16,
     "metadata": {},
     "output_type": "execute_result"
    }
   ],
   "source": [
    "model = Network()\n",
    "\n",
    "model"
   ]
  },
  {
   "cell_type": "code",
   "execution_count": 17,
   "metadata": {},
   "outputs": [],
   "source": [
    "criterion = nn.CrossEntropyLoss()\n",
    "optimizer = optim.Adam(model.parameters(), lr=0.001)\n",
    "scheduler = ReduceLROnPlateau(optimizer, mode='min', patience=3, factor=0.5, min_lr=5e-7,verbose=True)"
   ]
  },
  {
   "cell_type": "markdown",
   "metadata": {},
   "source": [
    "### Training The Model"
   ]
  },
  {
   "cell_type": "code",
   "execution_count": null,
   "metadata": {},
   "outputs": [],
   "source": [
    "# check if CUDA is available\n",
    "train_on_gpu = torch.cuda.is_available()\n",
    "\n",
    "if not train_on_gpu:\n",
    "    print('CUDA is not available.  Training on CPU ...')\n",
    "    mps_device = torch.device(\"mps\")\n",
    "else:\n",
    "    print('CUDA is available!  Training on GPU ...')\n",
    "    \n",
    "# move tensors to GPU if CUDA is available\n",
    "if train_on_gpu:\n",
    "    model.cuda()\n",
    "else:\n",
    "    model.to(mps_device)"
   ]
  },
  {
   "cell_type": "code",
   "execution_count": null,
   "metadata": {},
   "outputs": [],
   "source": [
    "epoch_num = 50\n",
    "\n",
    "valid_loss_min = np.Inf\n",
    "\n",
    "all_training_loss = []\n",
    "all_validation_loss = []\n",
    "\n",
    "for epoch in range(1, epoch_num+1):\n",
    "\n",
    "    train_loss = 0.0\n",
    "    valid_loss = 0.0\n",
    "    \n",
    "    class_correct = list(0. for i in range(3))\n",
    "    class_total = list(0. for i in range(3))\n",
    "\n",
    "    ##### train the model #####\n",
    "    model.train()\n",
    "    for data, target in train_loader:\n",
    "        if train_on_gpu:\n",
    "            data, target = data.cuda(), target.cuda()\n",
    "        else:\n",
    "            data, target = data.to(mps_device), target.to(mps_device)\n",
    "        \n",
    "        # clear the gradients of all optimized variables\n",
    "        optimizer.zero_grad()\n",
    "        \n",
    "        output = model(data)\n",
    "\n",
    "        loss = criterion(output, target)\n",
    "        loss.backward()\n",
    "        optimizer.step()\n",
    "        \n",
    "        train_loss += loss.item() * data.size(0)  \n",
    "\n",
    "\n",
    "    ##### validate the model #####\n",
    "    model.eval()\n",
    "    for data, target in valid_loader:\n",
    "        if train_on_gpu:\n",
    "            data, target = data.cuda(), target.cuda()\n",
    "        else:\n",
    "            data, target = data.to(mps_device), target.to(mps_device)\n",
    "       \n",
    "        output = model(data) \n",
    "        loss = criterion(output, target)\n",
    "        valid_loss += loss.item() * data.size(0)\n",
    "\n",
    "        # convert output probabilities to predicted class\n",
    "        _, pred = torch.max(output, 1)\n",
    "        \n",
    "        ans = []\n",
    "        for i in range(batch_size):\n",
    "            for j in range(3):\n",
    "                if target[i][j]:\n",
    "                    ans.append(j)\n",
    "        ans = torch.tensor(np.array(ans))\n",
    "        \n",
    "        if train_on_gpu:\n",
    "            pred = pred.cpu()\n",
    "        else:\n",
    "            pred = pred.cpu()\n",
    "\n",
    "        correct_tensor = pred.eq(ans.data.view_as(pred))\n",
    "        correct = np.squeeze(correct_tensor.numpy()) if not train_on_gpu else np.squeeze(correct_tensor.cpu().numpy())\n",
    "        \n",
    "        # calculate test accuracy for each object class\n",
    "        for i in range(batch_size):\n",
    "            label = ans.data[i]\n",
    "            class_correct[label] += correct[i].item()\n",
    "            class_total[label] += 1\n",
    "\n",
    "    # calculate average losses\n",
    "    train_loss = train_loss/len(train_loader.sampler)\n",
    "    valid_loss = valid_loss/len(valid_loader.sampler)\n",
    "\n",
    "    scheduler.step(valid_loss)\n",
    "\n",
    "    all_training_loss.append(train_loss)\n",
    "    all_validation_loss.append(valid_loss)    \n",
    "    \n",
    "    # print training/validation statistics \n",
    "    print('Epoch: {} \\n\\tTraining Loss: {:.6f} \\n\\tValidation Loss: {:.6f} [Minimum Validation Loss in the History: {:.6f}]'.format(\n",
    "        epoch, train_loss, valid_loss, valid_loss_min))\n",
    "    \n",
    "    for i in range(3):\n",
    "        if class_total[i] > 0:\n",
    "            print('\\t\\tValidation Accuracy of style %d: %2d%% (%2d/%2d)' % (\n",
    "                i + 1, 100 * class_correct[i] / class_total[i],\n",
    "                np.sum(class_correct[i]), np.sum(class_total[i])))\n",
    "        else:\n",
    "            print('\\t\\tTest Accuracy of style: N/A (no training examples)' % (i + 1))\n",
    "            \n",
    "    print('\\t\\tTotal Accuracy: %2.2f%% (%2d/%2d)' % (100 * np.sum(class_correct) / np.sum(class_total), np.sum(class_correct), np.sum(class_total)))\n",
    "\n",
    "    # save model if validation loss has decreased\n",
    "    if valid_loss <= valid_loss_min:\n",
    "        print('\\t***** Validation loss decreased ({:.6f} --> {:.6f}).  Saving model ... *****'.format(valid_loss_min, valid_loss))\n",
    "        torch.save(model.state_dict(), 'model_1.pt')\n",
    "        valid_loss_min = valid_loss\n",
    "        \n",
    "    \n",
    "# showing the training loss and validation loss during the training process\n",
    "plt.plot(np.array(all_training_loss))\n",
    "plt.plot(np.array(all_validation_loss))\n",
    "plt.show()"
   ]
  },
  {
   "cell_type": "markdown",
   "metadata": {},
   "source": [
    "### Test the Trained Network"
   ]
  },
  {
   "cell_type": "code",
   "execution_count": 21,
   "metadata": {},
   "outputs": [],
   "source": [
    "def Test(data_path: str, model, dict_path: str, output_path: str):\n",
    "\n",
    "    # read file\n",
    "    df_test = open(data_path).read().splitlines()\n",
    "\n",
    "    # convert into formatted np array\n",
    "    games = [i.split(',', 1)[-1] for i in df_test]\n",
    "    game_ids = [i.split(',', 1)[0] for i in df_test]\n",
    "\n",
    "    x_test = []\n",
    "    for game in games:\n",
    "        moves_list = game.split(',')\n",
    "        filtered_list = [element for element in moves_list if element]\n",
    "        x_test.append(convert_game(filtered_list))\n",
    "\n",
    "    x_test = np.array(x_test)\n",
    "\n",
    "    # convert the np array into torch tensor\n",
    "    x_test = torch.Tensor(x_test)\n",
    "\n",
    "    # load the dictionary\n",
    "    model.load_state_dict(torch.load(\n",
    "        dict_path, map_location=torch.device('cpu')))\n",
    "    model.eval()\n",
    "\n",
    "    # evaluate the result\n",
    "    with torch.no_grad():\n",
    "        output = model(x_test)\n",
    "\n",
    "    # convert the result into value\n",
    "    ans = []\n",
    "    for o in output:\n",
    "        if (o[0] > 0.5):\n",
    "            ans.append(1)\n",
    "        elif (o[1] > 0.5):\n",
    "            ans.append(2)\n",
    "        else:\n",
    "            ans.append(3)\n",
    "\n",
    "    # append the answer to the csv file\n",
    "    with open(output_path, 'a+') as f:\n",
    "        for i in range(len(ans)):\n",
    "            f.write(f\"{game_ids[i]},{ans[i]}\\n\")\n"
   ]
  },
  {
   "cell_type": "code",
   "execution_count": 22,
   "metadata": {},
   "outputs": [],
   "source": [
    "# Set up coordinate\n",
    "chars = 'abcdefghijklmnopqrs'\n",
    "coordinates = {k: v for v, k in enumerate(chars)}\n",
    "\n",
    "def convert_game(moves):\n",
    "    x = np.zeros((4, 19, 19))\n",
    "    last_move_color = moves[-1][0]\n",
    "\n",
    "    for move in moves:\n",
    "        color = move[0]\n",
    "        column = coordinates[move[2]]\n",
    "        row = coordinates[move[3]]\n",
    "        column = coordinates[move[2]]\n",
    "        row = coordinates[move[3]]\n",
    "        x[0, row, column] = 1\n",
    "\n",
    "        if (color == last_move_color):\n",
    "            x[2, row, column] = 1\n",
    "        else:\n",
    "            x[1, row, column] = 1\n",
    "\n",
    "    last_move_column = coordinates[moves[-1][2]]\n",
    "    last_move_row = coordinates[moves[-1][3]]\n",
    "    x[3, row, column] = 1\n",
    "\n",
    "    return x"
   ]
  },
  {
   "cell_type": "code",
   "execution_count": 23,
   "metadata": {},
   "outputs": [],
   "source": [
    "load_dict_name = './model_1.pt'\n",
    "TEST_PATH = \"./Testing Dataset/play_style_test_public.csv\"\n",
    "output_path = \"./public_prediction_model_1.csv\""
   ]
  },
  {
   "cell_type": "code",
   "execution_count": 24,
   "metadata": {},
   "outputs": [],
   "source": [
    "Test(TEST_PATH,model, load_dict_name,output_path)"
   ]
  }
 ],
 "metadata": {
  "kernelspec": {
   "display_name": "deep-learning",
   "language": "python",
   "name": "python3"
  },
  "language_info": {
   "codemirror_mode": {
    "name": "ipython",
    "version": 3
   },
   "file_extension": ".py",
   "mimetype": "text/x-python",
   "name": "python",
   "nbconvert_exporter": "python",
   "pygments_lexer": "ipython3",
   "version": "3.11.5"
  }
 },
 "nbformat": 4,
 "nbformat_minor": 2
}
